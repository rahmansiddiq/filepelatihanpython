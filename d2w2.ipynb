{
 "cells": [
  {
   "cell_type": "code",
   "execution_count": 2,
   "metadata": {},
   "outputs": [],
   "source": [
    "import pandas as pd"
   ]
  },
  {
   "cell_type": "code",
   "execution_count": 3,
   "metadata": {},
   "outputs": [
    {
     "data": {
      "text/plain": [
       "a    1\n",
       "b    2\n",
       "c    3\n",
       "d    4\n",
       "dtype: int64"
      ]
     },
     "execution_count": 3,
     "metadata": {},
     "output_type": "execute_result"
    }
   ],
   "source": [
    "#series as dictionary\n",
    "obj_series=pd.Series([1,2,3,4],index=['a','b','c','d'])\n",
    "obj_series"
   ]
  },
  {
   "cell_type": "code",
   "execution_count": 4,
   "metadata": {},
   "outputs": [
    {
     "data": {
      "text/plain": [
       "Index(['a', 'b', 'c', 'd'], dtype='object')"
      ]
     },
     "execution_count": 4,
     "metadata": {},
     "output_type": "execute_result"
    }
   ],
   "source": [
    "#indexing key\n",
    "obj_series.keys()"
   ]
  },
  {
   "cell_type": "code",
   "execution_count": 5,
   "metadata": {},
   "outputs": [
    {
     "data": {
      "text/plain": [
       "array([1, 2, 3, 4], dtype=int64)"
      ]
     },
     "execution_count": 5,
     "metadata": {},
     "output_type": "execute_result"
    }
   ],
   "source": [
    "#indexing value\n",
    "obj_series.values"
   ]
  },
  {
   "cell_type": "code",
   "execution_count": 6,
   "metadata": {},
   "outputs": [
    {
     "data": {
      "text/plain": [
       "True"
      ]
     },
     "execution_count": 6,
     "metadata": {},
     "output_type": "execute_result"
    }
   ],
   "source": [
    "#checking existing keys\n",
    "'b' in obj_series"
   ]
  },
  {
   "cell_type": "code",
   "execution_count": 7,
   "metadata": {},
   "outputs": [],
   "source": [
    "#series as array"
   ]
  },
  {
   "cell_type": "code",
   "execution_count": 8,
   "metadata": {},
   "outputs": [
    {
     "data": {
      "text/plain": [
       "a    1\n",
       "b    2\n",
       "c    3\n",
       "dtype: int64"
      ]
     },
     "execution_count": 8,
     "metadata": {},
     "output_type": "execute_result"
    }
   ],
   "source": [
    "#slicing explicit index\n",
    "obj_series['a':'c']"
   ]
  },
  {
   "cell_type": "code",
   "execution_count": 9,
   "metadata": {},
   "outputs": [
    {
     "data": {
      "text/plain": [
       "a    1\n",
       "b    2\n",
       "c    3\n",
       "dtype: int64"
      ]
     },
     "execution_count": 9,
     "metadata": {},
     "output_type": "execute_result"
    }
   ],
   "source": [
    "#slicing implicit index\n",
    "obj_series[:3]"
   ]
  },
  {
   "cell_type": "code",
   "execution_count": 10,
   "metadata": {},
   "outputs": [
    {
     "data": {
      "text/plain": [
       "a    1\n",
       "b    2\n",
       "c    3\n",
       "dtype: int64"
      ]
     },
     "execution_count": 10,
     "metadata": {},
     "output_type": "execute_result"
    }
   ],
   "source": [
    "#indexing menggunakan .loc dan .iloc indexing:\n",
    "#indexing berdasarkan posisi objek series\n",
    "#.loc indexing\n",
    "obj_series.loc['a':'c']"
   ]
  },
  {
   "cell_type": "code",
   "execution_count": 11,
   "metadata": {},
   "outputs": [
    {
     "data": {
      "text/plain": [
       "a    1\n",
       "b    2\n",
       "c    3\n",
       "dtype: int64"
      ]
     },
     "execution_count": 11,
     "metadata": {},
     "output_type": "execute_result"
    }
   ],
   "source": [
    "#iloc indexing\n",
    "obj_series.iloc[:3]"
   ]
  },
  {
   "cell_type": "code",
   "execution_count": 12,
   "metadata": {},
   "outputs": [
    {
     "data": {
      "text/plain": [
       "c    3\n",
       "d    4\n",
       "dtype: int64"
      ]
     },
     "execution_count": 12,
     "metadata": {},
     "output_type": "execute_result"
    }
   ],
   "source": [
    "#filtering objek series\n",
    "obj_series[obj_series>2]"
   ]
  },
  {
   "cell_type": "code",
   "execution_count": 13,
   "metadata": {},
   "outputs": [
    {
     "data": {
      "text/plain": [
       "c    3\n",
       "d    4\n",
       "dtype: int64"
      ]
     },
     "execution_count": 13,
     "metadata": {},
     "output_type": "execute_result"
    }
   ],
   "source": [
    "obj_series[['c','d']]"
   ]
  },
  {
   "cell_type": "code",
   "execution_count": 14,
   "metadata": {},
   "outputs": [],
   "source": [
    "#indexing dataframe\n",
    "#ada banyak cara indexing dataframe"
   ]
  },
  {
   "cell_type": "code",
   "execution_count": 15,
   "metadata": {},
   "outputs": [
    {
     "data": {
      "text/html": [
       "<div>\n",
       "<style scoped>\n",
       "    .dataframe tbody tr th:only-of-type {\n",
       "        vertical-align: middle;\n",
       "    }\n",
       "\n",
       "    .dataframe tbody tr th {\n",
       "        vertical-align: top;\n",
       "    }\n",
       "\n",
       "    .dataframe thead th {\n",
       "        text-align: right;\n",
       "    }\n",
       "</style>\n",
       "<table border=\"1\" class=\"dataframe\">\n",
       "  <thead>\n",
       "    <tr style=\"text-align: right;\">\n",
       "      <th></th>\n",
       "      <th>registration_id</th>\n",
       "      <th>name</th>\n",
       "      <th>email</th>\n",
       "      <th>phone</th>\n",
       "      <th>age</th>\n",
       "      <th>city</th>\n",
       "      <th>province</th>\n",
       "      <th>active</th>\n",
       "      <th>class</th>\n",
       "      <th>score</th>\n",
       "    </tr>\n",
       "  </thead>\n",
       "  <tbody>\n",
       "    <tr>\n",
       "      <th>0</th>\n",
       "      <td>RK20202344</td>\n",
       "      <td>Nina</td>\n",
       "      <td>nina@gmail.com</td>\n",
       "      <td>628198157</td>\n",
       "      <td>57</td>\n",
       "      <td>Tanjungpinang</td>\n",
       "      <td>Kepulauan Riau</td>\n",
       "      <td>1</td>\n",
       "      <td>6</td>\n",
       "      <td>80</td>\n",
       "    </tr>\n",
       "    <tr>\n",
       "      <th>1</th>\n",
       "      <td>RK20202345</td>\n",
       "      <td>Dyah</td>\n",
       "      <td>dyah@gmail.com</td>\n",
       "      <td>628306496</td>\n",
       "      <td>24</td>\n",
       "      <td>Bogor</td>\n",
       "      <td>Jawa Barat</td>\n",
       "      <td>0</td>\n",
       "      <td>2</td>\n",
       "      <td>66</td>\n",
       "    </tr>\n",
       "    <tr>\n",
       "      <th>2</th>\n",
       "      <td>RK20202346</td>\n",
       "      <td>Prima</td>\n",
       "      <td>prima@ymail.com</td>\n",
       "      <td>628755450</td>\n",
       "      <td>16</td>\n",
       "      <td>Kota Administrasi Jakarta Pusat</td>\n",
       "      <td>Jakarta</td>\n",
       "      <td>1</td>\n",
       "      <td>1</td>\n",
       "      <td>55</td>\n",
       "    </tr>\n",
       "    <tr>\n",
       "      <th>3</th>\n",
       "      <td>RK20202347</td>\n",
       "      <td>Firman</td>\n",
       "      <td>firman@google.com</td>\n",
       "      <td>628638112</td>\n",
       "      <td>59</td>\n",
       "      <td>Metro</td>\n",
       "      <td>Lampung</td>\n",
       "      <td>1</td>\n",
       "      <td>6</td>\n",
       "      <td>93</td>\n",
       "    </tr>\n",
       "    <tr>\n",
       "      <th>4</th>\n",
       "      <td>RK20202348</td>\n",
       "      <td>Eva</td>\n",
       "      <td>eva@rakamin.com</td>\n",
       "      <td>628702735</td>\n",
       "      <td>42</td>\n",
       "      <td>Malang</td>\n",
       "      <td>Jawa Timur</td>\n",
       "      <td>0</td>\n",
       "      <td>5</td>\n",
       "      <td>80</td>\n",
       "    </tr>\n",
       "  </tbody>\n",
       "</table>\n",
       "</div>"
      ],
      "text/plain": [
       "  registration_id    name              email      phone  age  \\\n",
       "0      RK20202344    Nina     nina@gmail.com  628198157   57   \n",
       "1      RK20202345    Dyah     dyah@gmail.com  628306496   24   \n",
       "2      RK20202346   Prima    prima@ymail.com  628755450   16   \n",
       "3      RK20202347  Firman  firman@google.com  628638112   59   \n",
       "4      RK20202348     Eva    eva@rakamin.com  628702735   42   \n",
       "\n",
       "                              city        province  active  class  score  \n",
       "0                    Tanjungpinang  Kepulauan Riau       1      6     80  \n",
       "1                            Bogor      Jawa Barat       0      2     66  \n",
       "2  Kota Administrasi Jakarta Pusat         Jakarta       1      1     55  \n",
       "3                            Metro         Lampung       1      6     93  \n",
       "4                           Malang      Jawa Timur       0      5     80  "
      ]
     },
     "execution_count": 15,
     "metadata": {},
     "output_type": "execute_result"
    }
   ],
   "source": [
    "#dataframe[]\n",
    "df_class=pd.read_csv('rakamin_class.csv')\n",
    "df_class.head()"
   ]
  },
  {
   "cell_type": "code",
   "execution_count": 17,
   "metadata": {},
   "outputs": [
    {
     "data": {
      "text/plain": [
       "'RK20202352'"
      ]
     },
     "execution_count": 17,
     "metadata": {},
     "output_type": "execute_result"
    }
   ],
   "source": [
    "#indexing as series\n",
    "df_class['name']"
   ]
  },
  {
   "cell_type": "code",
   "execution_count": 18,
   "metadata": {},
   "outputs": [
    {
     "ename": "KeyError",
     "evalue": "'RK20202344'",
     "output_type": "error",
     "traceback": [
      "\u001b[1;31m---------------------------------------------------------------------------\u001b[0m",
      "\u001b[1;31mKeyError\u001b[0m                                  Traceback (most recent call last)",
      "\u001b[1;32m<ipython-input-18-9e9b6d9aec18>\u001b[0m in \u001b[0;36m<module>\u001b[1;34m\u001b[0m\n\u001b[1;32m----> 1\u001b[1;33m \u001b[0mdf_class\u001b[0m\u001b[1;33m[\u001b[0m\u001b[1;34m'name'\u001b[0m\u001b[1;33m]\u001b[0m\u001b[1;33m[\u001b[0m\u001b[1;34m'RK20202344'\u001b[0m\u001b[1;33m]\u001b[0m\u001b[1;33m\u001b[0m\u001b[1;33m\u001b[0m\u001b[0m\n\u001b[0m",
      "\u001b[1;32m~\\anaconda3\\lib\\site-packages\\pandas\\core\\series.py\u001b[0m in \u001b[0;36m__getitem__\u001b[1;34m(self, key)\u001b[0m\n\u001b[0;32m    880\u001b[0m \u001b[1;33m\u001b[0m\u001b[0m\n\u001b[0;32m    881\u001b[0m         \u001b[1;32melif\u001b[0m \u001b[0mkey_is_scalar\u001b[0m\u001b[1;33m:\u001b[0m\u001b[1;33m\u001b[0m\u001b[1;33m\u001b[0m\u001b[0m\n\u001b[1;32m--> 882\u001b[1;33m             \u001b[1;32mreturn\u001b[0m \u001b[0mself\u001b[0m\u001b[1;33m.\u001b[0m\u001b[0m_get_value\u001b[0m\u001b[1;33m(\u001b[0m\u001b[0mkey\u001b[0m\u001b[1;33m)\u001b[0m\u001b[1;33m\u001b[0m\u001b[1;33m\u001b[0m\u001b[0m\n\u001b[0m\u001b[0;32m    883\u001b[0m \u001b[1;33m\u001b[0m\u001b[0m\n\u001b[0;32m    884\u001b[0m         \u001b[1;32mif\u001b[0m \u001b[0mis_hashable\u001b[0m\u001b[1;33m(\u001b[0m\u001b[0mkey\u001b[0m\u001b[1;33m)\u001b[0m\u001b[1;33m:\u001b[0m\u001b[1;33m\u001b[0m\u001b[1;33m\u001b[0m\u001b[0m\n",
      "\u001b[1;32m~\\anaconda3\\lib\\site-packages\\pandas\\core\\series.py\u001b[0m in \u001b[0;36m_get_value\u001b[1;34m(self, label, takeable)\u001b[0m\n\u001b[0;32m    987\u001b[0m \u001b[1;33m\u001b[0m\u001b[0m\n\u001b[0;32m    988\u001b[0m         \u001b[1;31m# Similar to Index.get_value, but we do not fall back to positional\u001b[0m\u001b[1;33m\u001b[0m\u001b[1;33m\u001b[0m\u001b[1;33m\u001b[0m\u001b[0m\n\u001b[1;32m--> 989\u001b[1;33m         \u001b[0mloc\u001b[0m \u001b[1;33m=\u001b[0m \u001b[0mself\u001b[0m\u001b[1;33m.\u001b[0m\u001b[0mindex\u001b[0m\u001b[1;33m.\u001b[0m\u001b[0mget_loc\u001b[0m\u001b[1;33m(\u001b[0m\u001b[0mlabel\u001b[0m\u001b[1;33m)\u001b[0m\u001b[1;33m\u001b[0m\u001b[1;33m\u001b[0m\u001b[0m\n\u001b[0m\u001b[0;32m    990\u001b[0m         \u001b[1;32mreturn\u001b[0m \u001b[0mself\u001b[0m\u001b[1;33m.\u001b[0m\u001b[0mindex\u001b[0m\u001b[1;33m.\u001b[0m\u001b[0m_get_values_for_loc\u001b[0m\u001b[1;33m(\u001b[0m\u001b[0mself\u001b[0m\u001b[1;33m,\u001b[0m \u001b[0mloc\u001b[0m\u001b[1;33m,\u001b[0m \u001b[0mlabel\u001b[0m\u001b[1;33m)\u001b[0m\u001b[1;33m\u001b[0m\u001b[1;33m\u001b[0m\u001b[0m\n\u001b[0;32m    991\u001b[0m \u001b[1;33m\u001b[0m\u001b[0m\n",
      "\u001b[1;32m~\\anaconda3\\lib\\site-packages\\pandas\\core\\indexes\\range.py\u001b[0m in \u001b[0;36mget_loc\u001b[1;34m(self, key, method, tolerance)\u001b[0m\n\u001b[0;32m    356\u001b[0m                 \u001b[1;32mexcept\u001b[0m \u001b[0mValueError\u001b[0m \u001b[1;32mas\u001b[0m \u001b[0merr\u001b[0m\u001b[1;33m:\u001b[0m\u001b[1;33m\u001b[0m\u001b[1;33m\u001b[0m\u001b[0m\n\u001b[0;32m    357\u001b[0m                     \u001b[1;32mraise\u001b[0m \u001b[0mKeyError\u001b[0m\u001b[1;33m(\u001b[0m\u001b[0mkey\u001b[0m\u001b[1;33m)\u001b[0m \u001b[1;32mfrom\u001b[0m \u001b[0merr\u001b[0m\u001b[1;33m\u001b[0m\u001b[1;33m\u001b[0m\u001b[0m\n\u001b[1;32m--> 358\u001b[1;33m             \u001b[1;32mraise\u001b[0m \u001b[0mKeyError\u001b[0m\u001b[1;33m(\u001b[0m\u001b[0mkey\u001b[0m\u001b[1;33m)\u001b[0m\u001b[1;33m\u001b[0m\u001b[1;33m\u001b[0m\u001b[0m\n\u001b[0m\u001b[0;32m    359\u001b[0m         \u001b[1;32mreturn\u001b[0m \u001b[0msuper\u001b[0m\u001b[1;33m(\u001b[0m\u001b[1;33m)\u001b[0m\u001b[1;33m.\u001b[0m\u001b[0mget_loc\u001b[0m\u001b[1;33m(\u001b[0m\u001b[0mkey\u001b[0m\u001b[1;33m,\u001b[0m \u001b[0mmethod\u001b[0m\u001b[1;33m=\u001b[0m\u001b[0mmethod\u001b[0m\u001b[1;33m,\u001b[0m \u001b[0mtolerance\u001b[0m\u001b[1;33m=\u001b[0m\u001b[0mtolerance\u001b[0m\u001b[1;33m)\u001b[0m\u001b[1;33m\u001b[0m\u001b[1;33m\u001b[0m\u001b[0m\n\u001b[0;32m    360\u001b[0m \u001b[1;33m\u001b[0m\u001b[0m\n",
      "\u001b[1;31mKeyError\u001b[0m: 'RK20202344'"
     ]
    }
   ],
   "source": [
    "df_class['name']['RK20202344']"
   ]
  },
  {
   "cell_type": "code",
   "execution_count": 22,
   "metadata": {},
   "outputs": [
    {
     "data": {
      "text/html": [
       "<div>\n",
       "<style scoped>\n",
       "    .dataframe tbody tr th:only-of-type {\n",
       "        vertical-align: middle;\n",
       "    }\n",
       "\n",
       "    .dataframe tbody tr th {\n",
       "        vertical-align: top;\n",
       "    }\n",
       "\n",
       "    .dataframe thead th {\n",
       "        text-align: right;\n",
       "    }\n",
       "</style>\n",
       "<table border=\"1\" class=\"dataframe\">\n",
       "  <thead>\n",
       "    <tr style=\"text-align: right;\">\n",
       "      <th></th>\n",
       "      <th>name</th>\n",
       "    </tr>\n",
       "  </thead>\n",
       "  <tbody>\n",
       "    <tr>\n",
       "      <th>0</th>\n",
       "      <td>Nina</td>\n",
       "    </tr>\n",
       "    <tr>\n",
       "      <th>1</th>\n",
       "      <td>Dyah</td>\n",
       "    </tr>\n",
       "    <tr>\n",
       "      <th>2</th>\n",
       "      <td>Prima</td>\n",
       "    </tr>\n",
       "    <tr>\n",
       "      <th>3</th>\n",
       "      <td>Firman</td>\n",
       "    </tr>\n",
       "    <tr>\n",
       "      <th>4</th>\n",
       "      <td>Eva</td>\n",
       "    </tr>\n",
       "  </tbody>\n",
       "</table>\n",
       "</div>"
      ],
      "text/plain": [
       "     name\n",
       "0    Nina\n",
       "1    Dyah\n",
       "2   Prima\n",
       "3  Firman\n",
       "4     Eva"
      ]
     },
     "execution_count": 22,
     "metadata": {},
     "output_type": "execute_result"
    }
   ],
   "source": [
    "#indexing as dataframe\n",
    "df_class[['name']].head()"
   ]
  },
  {
   "cell_type": "code",
   "execution_count": 23,
   "metadata": {},
   "outputs": [
    {
     "data": {
      "text/plain": [
       "0       Nina\n",
       "1       Dyah\n",
       "2      Prima\n",
       "3     Firman\n",
       "4        Eva\n",
       "       ...  \n",
       "95     Abdul\n",
       "96       Ria\n",
       "97     Putra\n",
       "98     Kokom\n",
       "99     Ilham\n",
       "Name: name, Length: 100, dtype: object"
      ]
     },
     "execution_count": 23,
     "metadata": {},
     "output_type": "execute_result"
    }
   ],
   "source": [
    "#dataframe.kolom\n",
    "#indexing using attribute\n",
    "df_class.name"
   ]
  },
  {
   "cell_type": "code",
   "execution_count": 24,
   "metadata": {},
   "outputs": [
    {
     "data": {
      "text/html": [
       "<div>\n",
       "<style scoped>\n",
       "    .dataframe tbody tr th:only-of-type {\n",
       "        vertical-align: middle;\n",
       "    }\n",
       "\n",
       "    .dataframe tbody tr th {\n",
       "        vertical-align: top;\n",
       "    }\n",
       "\n",
       "    .dataframe thead th {\n",
       "        text-align: right;\n",
       "    }\n",
       "</style>\n",
       "<table border=\"1\" class=\"dataframe\">\n",
       "  <thead>\n",
       "    <tr style=\"text-align: right;\">\n",
       "      <th></th>\n",
       "      <th>city</th>\n",
       "      <th>province</th>\n",
       "    </tr>\n",
       "  </thead>\n",
       "  <tbody>\n",
       "    <tr>\n",
       "      <th>0</th>\n",
       "      <td>Tanjungpinang</td>\n",
       "      <td>Kepulauan Riau</td>\n",
       "    </tr>\n",
       "    <tr>\n",
       "      <th>1</th>\n",
       "      <td>Bogor</td>\n",
       "      <td>Jawa Barat</td>\n",
       "    </tr>\n",
       "    <tr>\n",
       "      <th>2</th>\n",
       "      <td>Kota Administrasi Jakarta Pusat</td>\n",
       "      <td>Jakarta</td>\n",
       "    </tr>\n",
       "    <tr>\n",
       "      <th>3</th>\n",
       "      <td>Metro</td>\n",
       "      <td>Lampung</td>\n",
       "    </tr>\n",
       "    <tr>\n",
       "      <th>4</th>\n",
       "      <td>Malang</td>\n",
       "      <td>Jawa Timur</td>\n",
       "    </tr>\n",
       "  </tbody>\n",
       "</table>\n",
       "</div>"
      ],
      "text/plain": [
       "                              city        province\n",
       "0                    Tanjungpinang  Kepulauan Riau\n",
       "1                            Bogor      Jawa Barat\n",
       "2  Kota Administrasi Jakarta Pusat         Jakarta\n",
       "3                            Metro         Lampung\n",
       "4                           Malang      Jawa Timur"
      ]
     },
     "execution_count": 24,
     "metadata": {},
     "output_type": "execute_result"
    }
   ],
   "source": [
    "#dataframe.loc[]\n",
    "#indexing using .loc\n",
    "df_class.loc[:,['city','province']].head()"
   ]
  },
  {
   "cell_type": "code",
   "execution_count": 25,
   "metadata": {},
   "outputs": [
    {
     "data": {
      "text/html": [
       "<div>\n",
       "<style scoped>\n",
       "    .dataframe tbody tr th:only-of-type {\n",
       "        vertical-align: middle;\n",
       "    }\n",
       "\n",
       "    .dataframe tbody tr th {\n",
       "        vertical-align: top;\n",
       "    }\n",
       "\n",
       "    .dataframe thead th {\n",
       "        text-align: right;\n",
       "    }\n",
       "</style>\n",
       "<table border=\"1\" class=\"dataframe\">\n",
       "  <thead>\n",
       "    <tr style=\"text-align: right;\">\n",
       "      <th></th>\n",
       "      <th>city</th>\n",
       "      <th>province</th>\n",
       "    </tr>\n",
       "  </thead>\n",
       "  <tbody>\n",
       "    <tr>\n",
       "      <th>0</th>\n",
       "      <td>Tanjungpinang</td>\n",
       "      <td>Kepulauan Riau</td>\n",
       "    </tr>\n",
       "    <tr>\n",
       "      <th>1</th>\n",
       "      <td>Bogor</td>\n",
       "      <td>Jawa Barat</td>\n",
       "    </tr>\n",
       "    <tr>\n",
       "      <th>2</th>\n",
       "      <td>Kota Administrasi Jakarta Pusat</td>\n",
       "      <td>Jakarta</td>\n",
       "    </tr>\n",
       "    <tr>\n",
       "      <th>3</th>\n",
       "      <td>Metro</td>\n",
       "      <td>Lampung</td>\n",
       "    </tr>\n",
       "    <tr>\n",
       "      <th>4</th>\n",
       "      <td>Malang</td>\n",
       "      <td>Jawa Timur</td>\n",
       "    </tr>\n",
       "  </tbody>\n",
       "</table>\n",
       "</div>"
      ],
      "text/plain": [
       "                              city        province\n",
       "0                    Tanjungpinang  Kepulauan Riau\n",
       "1                            Bogor      Jawa Barat\n",
       "2  Kota Administrasi Jakarta Pusat         Jakarta\n",
       "3                            Metro         Lampung\n",
       "4                           Malang      Jawa Timur"
      ]
     },
     "execution_count": 25,
     "metadata": {},
     "output_type": "execute_result"
    }
   ],
   "source": [
    "#dataframe.iloc[]\n",
    "df_class.iloc[:,[5,6]].head()"
   ]
  },
  {
   "cell_type": "code",
   "execution_count": 26,
   "metadata": {},
   "outputs": [
    {
     "data": {
      "text/html": [
       "<div>\n",
       "<style scoped>\n",
       "    .dataframe tbody tr th:only-of-type {\n",
       "        vertical-align: middle;\n",
       "    }\n",
       "\n",
       "    .dataframe tbody tr th {\n",
       "        vertical-align: top;\n",
       "    }\n",
       "\n",
       "    .dataframe thead th {\n",
       "        text-align: right;\n",
       "    }\n",
       "</style>\n",
       "<table border=\"1\" class=\"dataframe\">\n",
       "  <thead>\n",
       "    <tr style=\"text-align: right;\">\n",
       "      <th></th>\n",
       "      <th>registration_id</th>\n",
       "      <th>name</th>\n",
       "      <th>email</th>\n",
       "      <th>phone</th>\n",
       "      <th>age</th>\n",
       "      <th>city</th>\n",
       "      <th>province</th>\n",
       "      <th>active</th>\n",
       "      <th>class</th>\n",
       "      <th>score</th>\n",
       "    </tr>\n",
       "  </thead>\n",
       "  <tbody>\n",
       "    <tr>\n",
       "      <th>0</th>\n",
       "      <td>RK20202344</td>\n",
       "      <td>Nina</td>\n",
       "      <td>nina@gmail.com</td>\n",
       "      <td>628198157</td>\n",
       "      <td>57</td>\n",
       "      <td>Tanjungpinang</td>\n",
       "      <td>Kepulauan Riau</td>\n",
       "      <td>1</td>\n",
       "      <td>6</td>\n",
       "      <td>80</td>\n",
       "    </tr>\n",
       "    <tr>\n",
       "      <th>1</th>\n",
       "      <td>RK20202345</td>\n",
       "      <td>Dyah</td>\n",
       "      <td>dyah@gmail.com</td>\n",
       "      <td>628306496</td>\n",
       "      <td>24</td>\n",
       "      <td>Bogor</td>\n",
       "      <td>Jawa Barat</td>\n",
       "      <td>0</td>\n",
       "      <td>2</td>\n",
       "      <td>66</td>\n",
       "    </tr>\n",
       "    <tr>\n",
       "      <th>2</th>\n",
       "      <td>RK20202346</td>\n",
       "      <td>Prima</td>\n",
       "      <td>prima@ymail.com</td>\n",
       "      <td>628755450</td>\n",
       "      <td>16</td>\n",
       "      <td>Kota Administrasi Jakarta Pusat</td>\n",
       "      <td>Jakarta</td>\n",
       "      <td>1</td>\n",
       "      <td>1</td>\n",
       "      <td>55</td>\n",
       "    </tr>\n",
       "    <tr>\n",
       "      <th>3</th>\n",
       "      <td>RK20202347</td>\n",
       "      <td>Firman</td>\n",
       "      <td>firman@google.com</td>\n",
       "      <td>628638112</td>\n",
       "      <td>59</td>\n",
       "      <td>Metro</td>\n",
       "      <td>Lampung</td>\n",
       "      <td>1</td>\n",
       "      <td>6</td>\n",
       "      <td>93</td>\n",
       "    </tr>\n",
       "    <tr>\n",
       "      <th>4</th>\n",
       "      <td>RK20202348</td>\n",
       "      <td>Eva</td>\n",
       "      <td>eva@rakamin.com</td>\n",
       "      <td>628702735</td>\n",
       "      <td>42</td>\n",
       "      <td>Malang</td>\n",
       "      <td>Jawa Timur</td>\n",
       "      <td>0</td>\n",
       "      <td>5</td>\n",
       "      <td>80</td>\n",
       "    </tr>\n",
       "  </tbody>\n",
       "</table>\n",
       "</div>"
      ],
      "text/plain": [
       "  registration_id    name              email      phone  age  \\\n",
       "0      RK20202344    Nina     nina@gmail.com  628198157   57   \n",
       "1      RK20202345    Dyah     dyah@gmail.com  628306496   24   \n",
       "2      RK20202346   Prima    prima@ymail.com  628755450   16   \n",
       "3      RK20202347  Firman  firman@google.com  628638112   59   \n",
       "4      RK20202348     Eva    eva@rakamin.com  628702735   42   \n",
       "\n",
       "                              city        province  active  class  score  \n",
       "0                    Tanjungpinang  Kepulauan Riau       1      6     80  \n",
       "1                            Bogor      Jawa Barat       0      2     66  \n",
       "2  Kota Administrasi Jakarta Pusat         Jakarta       1      1     55  \n",
       "3                            Metro         Lampung       1      6     93  \n",
       "4                           Malang      Jawa Timur       0      5     80  "
      ]
     },
     "execution_count": 26,
     "metadata": {},
     "output_type": "execute_result"
    }
   ],
   "source": [
    "#FILTERING DATAFRAME DENGAN BOOLEAN\n",
    "#filtering dataframe dimulai dari pertanyaan\n",
    "df_class.head()"
   ]
  },
  {
   "cell_type": "code",
   "execution_count": 27,
   "metadata": {},
   "outputs": [
    {
     "name": "stdout",
     "output_type": "stream",
     "text": [
      "0      True\n",
      "1     False\n",
      "2      True\n",
      "3      True\n",
      "4     False\n",
      "      ...  \n",
      "95    False\n",
      "96    False\n",
      "97     True\n",
      "98    False\n",
      "99     True\n",
      "Name: active, Length: 100, dtype: bool\n"
     ]
    }
   ],
   "source": [
    "#contoh kasus \n",
    "#diambil yang aktif\n",
    "aktif=df_class.active==1\n",
    "print(aktif)"
   ]
  },
  {
   "cell_type": "code",
   "execution_count": 29,
   "metadata": {},
   "outputs": [
    {
     "data": {
      "text/html": [
       "<div>\n",
       "<style scoped>\n",
       "    .dataframe tbody tr th:only-of-type {\n",
       "        vertical-align: middle;\n",
       "    }\n",
       "\n",
       "    .dataframe tbody tr th {\n",
       "        vertical-align: top;\n",
       "    }\n",
       "\n",
       "    .dataframe thead th {\n",
       "        text-align: right;\n",
       "    }\n",
       "</style>\n",
       "<table border=\"1\" class=\"dataframe\">\n",
       "  <thead>\n",
       "    <tr style=\"text-align: right;\">\n",
       "      <th></th>\n",
       "      <th>registration_id</th>\n",
       "      <th>name</th>\n",
       "      <th>email</th>\n",
       "      <th>phone</th>\n",
       "      <th>age</th>\n",
       "      <th>city</th>\n",
       "      <th>province</th>\n",
       "      <th>active</th>\n",
       "      <th>class</th>\n",
       "      <th>score</th>\n",
       "    </tr>\n",
       "  </thead>\n",
       "  <tbody>\n",
       "    <tr>\n",
       "      <th>0</th>\n",
       "      <td>RK20202344</td>\n",
       "      <td>Nina</td>\n",
       "      <td>nina@gmail.com</td>\n",
       "      <td>628198157</td>\n",
       "      <td>57</td>\n",
       "      <td>Tanjungpinang</td>\n",
       "      <td>Kepulauan Riau</td>\n",
       "      <td>1</td>\n",
       "      <td>6</td>\n",
       "      <td>80</td>\n",
       "    </tr>\n",
       "    <tr>\n",
       "      <th>2</th>\n",
       "      <td>RK20202346</td>\n",
       "      <td>Prima</td>\n",
       "      <td>prima@ymail.com</td>\n",
       "      <td>628755450</td>\n",
       "      <td>16</td>\n",
       "      <td>Kota Administrasi Jakarta Pusat</td>\n",
       "      <td>Jakarta</td>\n",
       "      <td>1</td>\n",
       "      <td>1</td>\n",
       "      <td>55</td>\n",
       "    </tr>\n",
       "    <tr>\n",
       "      <th>3</th>\n",
       "      <td>RK20202347</td>\n",
       "      <td>Firman</td>\n",
       "      <td>firman@google.com</td>\n",
       "      <td>628638112</td>\n",
       "      <td>59</td>\n",
       "      <td>Metro</td>\n",
       "      <td>Lampung</td>\n",
       "      <td>1</td>\n",
       "      <td>6</td>\n",
       "      <td>93</td>\n",
       "    </tr>\n",
       "    <tr>\n",
       "      <th>5</th>\n",
       "      <td>RK20202349</td>\n",
       "      <td>Bagus</td>\n",
       "      <td>bagus@hotmail.com</td>\n",
       "      <td>628816223</td>\n",
       "      <td>16</td>\n",
       "      <td>Kota Administrasi Jakarta Pusat</td>\n",
       "      <td>Jakarta</td>\n",
       "      <td>1</td>\n",
       "      <td>1</td>\n",
       "      <td>84</td>\n",
       "    </tr>\n",
       "    <tr>\n",
       "      <th>6</th>\n",
       "      <td>RK20202350</td>\n",
       "      <td>Citra</td>\n",
       "      <td>citra@hotmail.com</td>\n",
       "      <td>628965407</td>\n",
       "      <td>36</td>\n",
       "      <td>Surakarta</td>\n",
       "      <td>Jawa Tengah</td>\n",
       "      <td>1</td>\n",
       "      <td>4</td>\n",
       "      <td>69</td>\n",
       "    </tr>\n",
       "    <tr>\n",
       "      <th>...</th>\n",
       "      <td>...</td>\n",
       "      <td>...</td>\n",
       "      <td>...</td>\n",
       "      <td>...</td>\n",
       "      <td>...</td>\n",
       "      <td>...</td>\n",
       "      <td>...</td>\n",
       "      <td>...</td>\n",
       "      <td>...</td>\n",
       "      <td>...</td>\n",
       "    </tr>\n",
       "    <tr>\n",
       "      <th>83</th>\n",
       "      <td>RK20202427</td>\n",
       "      <td>Rina</td>\n",
       "      <td>rina@gmail.com</td>\n",
       "      <td>628516075</td>\n",
       "      <td>54</td>\n",
       "      <td>Samarinda</td>\n",
       "      <td>Kalimantan Timur</td>\n",
       "      <td>1</td>\n",
       "      <td>6</td>\n",
       "      <td>84</td>\n",
       "    </tr>\n",
       "    <tr>\n",
       "      <th>86</th>\n",
       "      <td>RK20202430</td>\n",
       "      <td>Saputra</td>\n",
       "      <td>saputra@google.com</td>\n",
       "      <td>628420164</td>\n",
       "      <td>37</td>\n",
       "      <td>Tegal</td>\n",
       "      <td>Jawa Tengah</td>\n",
       "      <td>1</td>\n",
       "      <td>4</td>\n",
       "      <td>67</td>\n",
       "    </tr>\n",
       "    <tr>\n",
       "      <th>89</th>\n",
       "      <td>RK20202433</td>\n",
       "      <td>Tuti</td>\n",
       "      <td>tuti@google.com</td>\n",
       "      <td>628263541</td>\n",
       "      <td>46</td>\n",
       "      <td>Surabaya</td>\n",
       "      <td>Jawa Timur</td>\n",
       "      <td>1</td>\n",
       "      <td>5</td>\n",
       "      <td>51</td>\n",
       "    </tr>\n",
       "    <tr>\n",
       "      <th>97</th>\n",
       "      <td>RK20202441</td>\n",
       "      <td>Putra</td>\n",
       "      <td>putra@gmail.com</td>\n",
       "      <td>628205046</td>\n",
       "      <td>51</td>\n",
       "      <td>Palangkaraya</td>\n",
       "      <td>Kalimantan Tengah</td>\n",
       "      <td>1</td>\n",
       "      <td>6</td>\n",
       "      <td>71</td>\n",
       "    </tr>\n",
       "    <tr>\n",
       "      <th>99</th>\n",
       "      <td>RK20202443</td>\n",
       "      <td>Ilham</td>\n",
       "      <td>ilham@gmail.com</td>\n",
       "      <td>628680755</td>\n",
       "      <td>29</td>\n",
       "      <td>Tasikmalaya</td>\n",
       "      <td>Jawa Barat</td>\n",
       "      <td>1</td>\n",
       "      <td>2</td>\n",
       "      <td>52</td>\n",
       "    </tr>\n",
       "  </tbody>\n",
       "</table>\n",
       "<p>64 rows × 10 columns</p>\n",
       "</div>"
      ],
      "text/plain": [
       "   registration_id     name               email      phone  age  \\\n",
       "0       RK20202344     Nina      nina@gmail.com  628198157   57   \n",
       "2       RK20202346    Prima     prima@ymail.com  628755450   16   \n",
       "3       RK20202347   Firman   firman@google.com  628638112   59   \n",
       "5       RK20202349    Bagus   bagus@hotmail.com  628816223   16   \n",
       "6       RK20202350    Citra   citra@hotmail.com  628965407   36   \n",
       "..             ...      ...                 ...        ...  ...   \n",
       "83      RK20202427     Rina      rina@gmail.com  628516075   54   \n",
       "86      RK20202430  Saputra  saputra@google.com  628420164   37   \n",
       "89      RK20202433     Tuti     tuti@google.com  628263541   46   \n",
       "97      RK20202441    Putra     putra@gmail.com  628205046   51   \n",
       "99      RK20202443    Ilham     ilham@gmail.com  628680755   29   \n",
       "\n",
       "                               city           province  active  class  score  \n",
       "0                     Tanjungpinang     Kepulauan Riau       1      6     80  \n",
       "2   Kota Administrasi Jakarta Pusat            Jakarta       1      1     55  \n",
       "3                             Metro            Lampung       1      6     93  \n",
       "5   Kota Administrasi Jakarta Pusat            Jakarta       1      1     84  \n",
       "6                         Surakarta        Jawa Tengah       1      4     69  \n",
       "..                              ...                ...     ...    ...    ...  \n",
       "83                        Samarinda   Kalimantan Timur       1      6     84  \n",
       "86                            Tegal        Jawa Tengah       1      4     67  \n",
       "89                         Surabaya         Jawa Timur       1      5     51  \n",
       "97                     Palangkaraya  Kalimantan Tengah       1      6     71  \n",
       "99                      Tasikmalaya         Jawa Barat       1      2     52  \n",
       "\n",
       "[64 rows x 10 columns]"
      ]
     },
     "execution_count": 29,
     "metadata": {},
     "output_type": "execute_result"
    }
   ],
   "source": [
    "df_class[aktif]"
   ]
  },
  {
   "cell_type": "code",
   "execution_count": 30,
   "metadata": {},
   "outputs": [
    {
     "name": "stdout",
     "output_type": "stream",
     "text": [
      "0     False\n",
      "1     False\n",
      "2      True\n",
      "3     False\n",
      "4     False\n",
      "      ...  \n",
      "95    False\n",
      "96    False\n",
      "97    False\n",
      "98    False\n",
      "99    False\n",
      "Name: province, Length: 100, dtype: bool\n"
     ]
    }
   ],
   "source": [
    "#jika siswa yang aktif berasal dari provinsi jakarta\n",
    "#boolean series siswa yang aktif\n",
    "aktif=df_class.active==1\n",
    "#boolean series asal\n",
    "asal=df_class.province=='Jakarta'\n",
    "print(asal)"
   ]
  },
  {
   "cell_type": "code",
   "execution_count": 32,
   "metadata": {},
   "outputs": [
    {
     "data": {
      "text/html": [
       "<div>\n",
       "<style scoped>\n",
       "    .dataframe tbody tr th:only-of-type {\n",
       "        vertical-align: middle;\n",
       "    }\n",
       "\n",
       "    .dataframe tbody tr th {\n",
       "        vertical-align: top;\n",
       "    }\n",
       "\n",
       "    .dataframe thead th {\n",
       "        text-align: right;\n",
       "    }\n",
       "</style>\n",
       "<table border=\"1\" class=\"dataframe\">\n",
       "  <thead>\n",
       "    <tr style=\"text-align: right;\">\n",
       "      <th></th>\n",
       "      <th>registration_id</th>\n",
       "      <th>name</th>\n",
       "      <th>email</th>\n",
       "      <th>phone</th>\n",
       "      <th>age</th>\n",
       "      <th>city</th>\n",
       "      <th>province</th>\n",
       "      <th>active</th>\n",
       "      <th>class</th>\n",
       "      <th>score</th>\n",
       "    </tr>\n",
       "  </thead>\n",
       "  <tbody>\n",
       "    <tr>\n",
       "      <th>2</th>\n",
       "      <td>RK20202346</td>\n",
       "      <td>Prima</td>\n",
       "      <td>prima@ymail.com</td>\n",
       "      <td>628755450</td>\n",
       "      <td>16</td>\n",
       "      <td>Kota Administrasi Jakarta Pusat</td>\n",
       "      <td>Jakarta</td>\n",
       "      <td>1</td>\n",
       "      <td>1</td>\n",
       "      <td>55</td>\n",
       "    </tr>\n",
       "    <tr>\n",
       "      <th>5</th>\n",
       "      <td>RK20202349</td>\n",
       "      <td>Bagus</td>\n",
       "      <td>bagus@hotmail.com</td>\n",
       "      <td>628816223</td>\n",
       "      <td>16</td>\n",
       "      <td>Kota Administrasi Jakarta Pusat</td>\n",
       "      <td>Jakarta</td>\n",
       "      <td>1</td>\n",
       "      <td>1</td>\n",
       "      <td>84</td>\n",
       "    </tr>\n",
       "    <tr>\n",
       "      <th>7</th>\n",
       "      <td>RK20202351</td>\n",
       "      <td>Yuni</td>\n",
       "      <td>yuni@google.com</td>\n",
       "      <td>628714465</td>\n",
       "      <td>16</td>\n",
       "      <td>Kota Administrasi Jakarta Pusat</td>\n",
       "      <td>Jakarta</td>\n",
       "      <td>0</td>\n",
       "      <td>1</td>\n",
       "      <td>87</td>\n",
       "    </tr>\n",
       "    <tr>\n",
       "      <th>9</th>\n",
       "      <td>RK20202353</td>\n",
       "      <td>Nurul</td>\n",
       "      <td>nurul@gmail.com</td>\n",
       "      <td>628687911</td>\n",
       "      <td>17</td>\n",
       "      <td>Kota Administrasi Jakarta Selatan</td>\n",
       "      <td>Jakarta</td>\n",
       "      <td>0</td>\n",
       "      <td>1</td>\n",
       "      <td>79</td>\n",
       "    </tr>\n",
       "    <tr>\n",
       "      <th>15</th>\n",
       "      <td>RK20202359</td>\n",
       "      <td>Dadan</td>\n",
       "      <td>dadan@facebook.com</td>\n",
       "      <td>628952082</td>\n",
       "      <td>19</td>\n",
       "      <td>Kota Administrasi Jakarta Utara</td>\n",
       "      <td>Jakarta</td>\n",
       "      <td>1</td>\n",
       "      <td>1</td>\n",
       "      <td>63</td>\n",
       "    </tr>\n",
       "    <tr>\n",
       "      <th>16</th>\n",
       "      <td>RK20202360</td>\n",
       "      <td>Diana</td>\n",
       "      <td>diana@ymail.com</td>\n",
       "      <td>628161800</td>\n",
       "      <td>18</td>\n",
       "      <td>Kota Administrasi Jakarta Timur</td>\n",
       "      <td>Jakarta</td>\n",
       "      <td>0</td>\n",
       "      <td>1</td>\n",
       "      <td>87</td>\n",
       "    </tr>\n",
       "    <tr>\n",
       "      <th>31</th>\n",
       "      <td>RK20202375</td>\n",
       "      <td>Ratih</td>\n",
       "      <td>ratih@gmail.com</td>\n",
       "      <td>628336072</td>\n",
       "      <td>19</td>\n",
       "      <td>Kota Administrasi Jakarta Utara</td>\n",
       "      <td>Jakarta</td>\n",
       "      <td>0</td>\n",
       "      <td>1</td>\n",
       "      <td>81</td>\n",
       "    </tr>\n",
       "    <tr>\n",
       "      <th>40</th>\n",
       "      <td>RK20202384</td>\n",
       "      <td>Raden</td>\n",
       "      <td>raden@rakamin.com</td>\n",
       "      <td>628869259</td>\n",
       "      <td>17</td>\n",
       "      <td>Kota Administrasi Jakarta Selatan</td>\n",
       "      <td>Jakarta</td>\n",
       "      <td>1</td>\n",
       "      <td>1</td>\n",
       "      <td>87</td>\n",
       "    </tr>\n",
       "    <tr>\n",
       "      <th>46</th>\n",
       "      <td>RK20202390</td>\n",
       "      <td>Wulan</td>\n",
       "      <td>wulan@rocketmail.com</td>\n",
       "      <td>628361563</td>\n",
       "      <td>19</td>\n",
       "      <td>Kota Administrasi Jakarta Utara</td>\n",
       "      <td>Jakarta</td>\n",
       "      <td>1</td>\n",
       "      <td>1</td>\n",
       "      <td>73</td>\n",
       "    </tr>\n",
       "    <tr>\n",
       "      <th>67</th>\n",
       "      <td>RK20202411</td>\n",
       "      <td>Hidayat</td>\n",
       "      <td>hidayat@hotmail.com</td>\n",
       "      <td>628493696</td>\n",
       "      <td>17</td>\n",
       "      <td>Kota Administrasi Jakarta Selatan</td>\n",
       "      <td>Jakarta</td>\n",
       "      <td>0</td>\n",
       "      <td>1</td>\n",
       "      <td>100</td>\n",
       "    </tr>\n",
       "    <tr>\n",
       "      <th>82</th>\n",
       "      <td>RK20202426</td>\n",
       "      <td>Een</td>\n",
       "      <td>een@facebook.com</td>\n",
       "      <td>628018377</td>\n",
       "      <td>15</td>\n",
       "      <td>Kota Administrasi Jakarta Barat</td>\n",
       "      <td>Jakarta</td>\n",
       "      <td>1</td>\n",
       "      <td>1</td>\n",
       "      <td>74</td>\n",
       "    </tr>\n",
       "    <tr>\n",
       "      <th>92</th>\n",
       "      <td>RK20202436</td>\n",
       "      <td>Munaroh</td>\n",
       "      <td>munaroh@hotmail.com</td>\n",
       "      <td>628636716</td>\n",
       "      <td>15</td>\n",
       "      <td>Kota Administrasi Jakarta Barat</td>\n",
       "      <td>Jakarta</td>\n",
       "      <td>0</td>\n",
       "      <td>1</td>\n",
       "      <td>91</td>\n",
       "    </tr>\n",
       "  </tbody>\n",
       "</table>\n",
       "</div>"
      ],
      "text/plain": [
       "   registration_id     name                 email      phone  age  \\\n",
       "2       RK20202346    Prima       prima@ymail.com  628755450   16   \n",
       "5       RK20202349    Bagus     bagus@hotmail.com  628816223   16   \n",
       "7       RK20202351     Yuni       yuni@google.com  628714465   16   \n",
       "9       RK20202353    Nurul       nurul@gmail.com  628687911   17   \n",
       "15      RK20202359    Dadan    dadan@facebook.com  628952082   19   \n",
       "16      RK20202360    Diana       diana@ymail.com  628161800   18   \n",
       "31      RK20202375    Ratih       ratih@gmail.com  628336072   19   \n",
       "40      RK20202384    Raden     raden@rakamin.com  628869259   17   \n",
       "46      RK20202390    Wulan  wulan@rocketmail.com  628361563   19   \n",
       "67      RK20202411  Hidayat   hidayat@hotmail.com  628493696   17   \n",
       "82      RK20202426      Een      een@facebook.com  628018377   15   \n",
       "92      RK20202436  Munaroh   munaroh@hotmail.com  628636716   15   \n",
       "\n",
       "                                 city province  active  class  score  \n",
       "2     Kota Administrasi Jakarta Pusat  Jakarta       1      1     55  \n",
       "5     Kota Administrasi Jakarta Pusat  Jakarta       1      1     84  \n",
       "7     Kota Administrasi Jakarta Pusat  Jakarta       0      1     87  \n",
       "9   Kota Administrasi Jakarta Selatan  Jakarta       0      1     79  \n",
       "15    Kota Administrasi Jakarta Utara  Jakarta       1      1     63  \n",
       "16    Kota Administrasi Jakarta Timur  Jakarta       0      1     87  \n",
       "31    Kota Administrasi Jakarta Utara  Jakarta       0      1     81  \n",
       "40  Kota Administrasi Jakarta Selatan  Jakarta       1      1     87  \n",
       "46    Kota Administrasi Jakarta Utara  Jakarta       1      1     73  \n",
       "67  Kota Administrasi Jakarta Selatan  Jakarta       0      1    100  \n",
       "82    Kota Administrasi Jakarta Barat  Jakarta       1      1     74  \n",
       "92    Kota Administrasi Jakarta Barat  Jakarta       0      1     91  "
      ]
     },
     "execution_count": 32,
     "metadata": {},
     "output_type": "execute_result"
    }
   ],
   "source": [
    "df_class[asal]"
   ]
  },
  {
   "cell_type": "code",
   "execution_count": 36,
   "metadata": {},
   "outputs": [
    {
     "data": {
      "text/html": [
       "<div>\n",
       "<style scoped>\n",
       "    .dataframe tbody tr th:only-of-type {\n",
       "        vertical-align: middle;\n",
       "    }\n",
       "\n",
       "    .dataframe tbody tr th {\n",
       "        vertical-align: top;\n",
       "    }\n",
       "\n",
       "    .dataframe thead th {\n",
       "        text-align: right;\n",
       "    }\n",
       "</style>\n",
       "<table border=\"1\" class=\"dataframe\">\n",
       "  <thead>\n",
       "    <tr style=\"text-align: right;\">\n",
       "      <th></th>\n",
       "      <th>registration_id</th>\n",
       "      <th>name</th>\n",
       "      <th>email</th>\n",
       "      <th>phone</th>\n",
       "      <th>age</th>\n",
       "      <th>city</th>\n",
       "      <th>province</th>\n",
       "      <th>active</th>\n",
       "      <th>class</th>\n",
       "      <th>score</th>\n",
       "    </tr>\n",
       "  </thead>\n",
       "  <tbody>\n",
       "    <tr>\n",
       "      <th>2</th>\n",
       "      <td>RK20202346</td>\n",
       "      <td>Prima</td>\n",
       "      <td>prima@ymail.com</td>\n",
       "      <td>628755450</td>\n",
       "      <td>16</td>\n",
       "      <td>Kota Administrasi Jakarta Pusat</td>\n",
       "      <td>Jakarta</td>\n",
       "      <td>1</td>\n",
       "      <td>1</td>\n",
       "      <td>55</td>\n",
       "    </tr>\n",
       "    <tr>\n",
       "      <th>5</th>\n",
       "      <td>RK20202349</td>\n",
       "      <td>Bagus</td>\n",
       "      <td>bagus@hotmail.com</td>\n",
       "      <td>628816223</td>\n",
       "      <td>16</td>\n",
       "      <td>Kota Administrasi Jakarta Pusat</td>\n",
       "      <td>Jakarta</td>\n",
       "      <td>1</td>\n",
       "      <td>1</td>\n",
       "      <td>84</td>\n",
       "    </tr>\n",
       "    <tr>\n",
       "      <th>15</th>\n",
       "      <td>RK20202359</td>\n",
       "      <td>Dadan</td>\n",
       "      <td>dadan@facebook.com</td>\n",
       "      <td>628952082</td>\n",
       "      <td>19</td>\n",
       "      <td>Kota Administrasi Jakarta Utara</td>\n",
       "      <td>Jakarta</td>\n",
       "      <td>1</td>\n",
       "      <td>1</td>\n",
       "      <td>63</td>\n",
       "    </tr>\n",
       "    <tr>\n",
       "      <th>40</th>\n",
       "      <td>RK20202384</td>\n",
       "      <td>Raden</td>\n",
       "      <td>raden@rakamin.com</td>\n",
       "      <td>628869259</td>\n",
       "      <td>17</td>\n",
       "      <td>Kota Administrasi Jakarta Selatan</td>\n",
       "      <td>Jakarta</td>\n",
       "      <td>1</td>\n",
       "      <td>1</td>\n",
       "      <td>87</td>\n",
       "    </tr>\n",
       "    <tr>\n",
       "      <th>46</th>\n",
       "      <td>RK20202390</td>\n",
       "      <td>Wulan</td>\n",
       "      <td>wulan@rocketmail.com</td>\n",
       "      <td>628361563</td>\n",
       "      <td>19</td>\n",
       "      <td>Kota Administrasi Jakarta Utara</td>\n",
       "      <td>Jakarta</td>\n",
       "      <td>1</td>\n",
       "      <td>1</td>\n",
       "      <td>73</td>\n",
       "    </tr>\n",
       "    <tr>\n",
       "      <th>82</th>\n",
       "      <td>RK20202426</td>\n",
       "      <td>Een</td>\n",
       "      <td>een@facebook.com</td>\n",
       "      <td>628018377</td>\n",
       "      <td>15</td>\n",
       "      <td>Kota Administrasi Jakarta Barat</td>\n",
       "      <td>Jakarta</td>\n",
       "      <td>1</td>\n",
       "      <td>1</td>\n",
       "      <td>74</td>\n",
       "    </tr>\n",
       "  </tbody>\n",
       "</table>\n",
       "</div>"
      ],
      "text/plain": [
       "   registration_id   name                 email      phone  age  \\\n",
       "2       RK20202346  Prima       prima@ymail.com  628755450   16   \n",
       "5       RK20202349  Bagus     bagus@hotmail.com  628816223   16   \n",
       "15      RK20202359  Dadan    dadan@facebook.com  628952082   19   \n",
       "40      RK20202384  Raden     raden@rakamin.com  628869259   17   \n",
       "46      RK20202390  Wulan  wulan@rocketmail.com  628361563   19   \n",
       "82      RK20202426    Een      een@facebook.com  628018377   15   \n",
       "\n",
       "                                 city province  active  class  score  \n",
       "2     Kota Administrasi Jakarta Pusat  Jakarta       1      1     55  \n",
       "5     Kota Administrasi Jakarta Pusat  Jakarta       1      1     84  \n",
       "15    Kota Administrasi Jakarta Utara  Jakarta       1      1     63  \n",
       "40  Kota Administrasi Jakarta Selatan  Jakarta       1      1     87  \n",
       "46    Kota Administrasi Jakarta Utara  Jakarta       1      1     73  \n",
       "82    Kota Administrasi Jakarta Barat  Jakarta       1      1     74  "
      ]
     },
     "execution_count": 36,
     "metadata": {},
     "output_type": "execute_result"
    }
   ],
   "source": [
    "df_class[(aktif) & (asal)]"
   ]
  },
  {
   "cell_type": "code",
   "execution_count": 39,
   "metadata": {},
   "outputs": [
    {
     "data": {
      "text/html": [
       "<div>\n",
       "<style scoped>\n",
       "    .dataframe tbody tr th:only-of-type {\n",
       "        vertical-align: middle;\n",
       "    }\n",
       "\n",
       "    .dataframe tbody tr th {\n",
       "        vertical-align: top;\n",
       "    }\n",
       "\n",
       "    .dataframe thead th {\n",
       "        text-align: right;\n",
       "    }\n",
       "</style>\n",
       "<table border=\"1\" class=\"dataframe\">\n",
       "  <thead>\n",
       "    <tr style=\"text-align: right;\">\n",
       "      <th></th>\n",
       "      <th>registration_id</th>\n",
       "      <th>name</th>\n",
       "      <th>email</th>\n",
       "      <th>phone</th>\n",
       "      <th>age</th>\n",
       "      <th>city</th>\n",
       "      <th>province</th>\n",
       "      <th>active</th>\n",
       "      <th>class</th>\n",
       "      <th>score</th>\n",
       "    </tr>\n",
       "  </thead>\n",
       "  <tbody>\n",
       "    <tr>\n",
       "      <th>7</th>\n",
       "      <td>RK20202351</td>\n",
       "      <td>Yuni</td>\n",
       "      <td>yuni@google.com</td>\n",
       "      <td>628714465</td>\n",
       "      <td>16</td>\n",
       "      <td>Kota Administrasi Jakarta Pusat</td>\n",
       "      <td>Jakarta</td>\n",
       "      <td>0</td>\n",
       "      <td>1</td>\n",
       "      <td>87</td>\n",
       "    </tr>\n",
       "    <tr>\n",
       "      <th>9</th>\n",
       "      <td>RK20202353</td>\n",
       "      <td>Nurul</td>\n",
       "      <td>nurul@gmail.com</td>\n",
       "      <td>628687911</td>\n",
       "      <td>17</td>\n",
       "      <td>Kota Administrasi Jakarta Selatan</td>\n",
       "      <td>Jakarta</td>\n",
       "      <td>0</td>\n",
       "      <td>1</td>\n",
       "      <td>79</td>\n",
       "    </tr>\n",
       "    <tr>\n",
       "      <th>16</th>\n",
       "      <td>RK20202360</td>\n",
       "      <td>Diana</td>\n",
       "      <td>diana@ymail.com</td>\n",
       "      <td>628161800</td>\n",
       "      <td>18</td>\n",
       "      <td>Kota Administrasi Jakarta Timur</td>\n",
       "      <td>Jakarta</td>\n",
       "      <td>0</td>\n",
       "      <td>1</td>\n",
       "      <td>87</td>\n",
       "    </tr>\n",
       "    <tr>\n",
       "      <th>31</th>\n",
       "      <td>RK20202375</td>\n",
       "      <td>Ratih</td>\n",
       "      <td>ratih@gmail.com</td>\n",
       "      <td>628336072</td>\n",
       "      <td>19</td>\n",
       "      <td>Kota Administrasi Jakarta Utara</td>\n",
       "      <td>Jakarta</td>\n",
       "      <td>0</td>\n",
       "      <td>1</td>\n",
       "      <td>81</td>\n",
       "    </tr>\n",
       "    <tr>\n",
       "      <th>67</th>\n",
       "      <td>RK20202411</td>\n",
       "      <td>Hidayat</td>\n",
       "      <td>hidayat@hotmail.com</td>\n",
       "      <td>628493696</td>\n",
       "      <td>17</td>\n",
       "      <td>Kota Administrasi Jakarta Selatan</td>\n",
       "      <td>Jakarta</td>\n",
       "      <td>0</td>\n",
       "      <td>1</td>\n",
       "      <td>100</td>\n",
       "    </tr>\n",
       "    <tr>\n",
       "      <th>92</th>\n",
       "      <td>RK20202436</td>\n",
       "      <td>Munaroh</td>\n",
       "      <td>munaroh@hotmail.com</td>\n",
       "      <td>628636716</td>\n",
       "      <td>15</td>\n",
       "      <td>Kota Administrasi Jakarta Barat</td>\n",
       "      <td>Jakarta</td>\n",
       "      <td>0</td>\n",
       "      <td>1</td>\n",
       "      <td>91</td>\n",
       "    </tr>\n",
       "  </tbody>\n",
       "</table>\n",
       "</div>"
      ],
      "text/plain": [
       "   registration_id     name                email      phone  age  \\\n",
       "7       RK20202351     Yuni      yuni@google.com  628714465   16   \n",
       "9       RK20202353    Nurul      nurul@gmail.com  628687911   17   \n",
       "16      RK20202360    Diana      diana@ymail.com  628161800   18   \n",
       "31      RK20202375    Ratih      ratih@gmail.com  628336072   19   \n",
       "67      RK20202411  Hidayat  hidayat@hotmail.com  628493696   17   \n",
       "92      RK20202436  Munaroh  munaroh@hotmail.com  628636716   15   \n",
       "\n",
       "                                 city province  active  class  score  \n",
       "7     Kota Administrasi Jakarta Pusat  Jakarta       0      1     87  \n",
       "9   Kota Administrasi Jakarta Selatan  Jakarta       0      1     79  \n",
       "16    Kota Administrasi Jakarta Timur  Jakarta       0      1     87  \n",
       "31    Kota Administrasi Jakarta Utara  Jakarta       0      1     81  \n",
       "67  Kota Administrasi Jakarta Selatan  Jakarta       0      1    100  \n",
       "92    Kota Administrasi Jakarta Barat  Jakarta       0      1     91  "
      ]
     },
     "execution_count": 39,
     "metadata": {},
     "output_type": "execute_result"
    }
   ],
   "source": [
    "#jika siswa tidak aktif yang berasal dari lampung dan berumur lebih dari 30 tahun\n",
    "#dan kurang dari 20\n",
    "#siswa yang tidak aktif\n",
    "tdk_aktif=df_class.active==0\n",
    "#asal dari lampung\n",
    "asal=df_class.province=='Jakarta'\n",
    "#berumur lebih dari 30 tahun\n",
    "umur30=df_class.age>30\n",
    "#berumur kurang dari 20 tahun\n",
    "umur20=df_class.age<20\n",
    "df_class[(tdk_aktif)&(asal)&(umur30|umur20)]"
   ]
  },
  {
   "cell_type": "code",
   "execution_count": 40,
   "metadata": {},
   "outputs": [],
   "source": [
    "#data transformation\n",
    "#misal ingin mengurangi suatu nilai dengan min pada kolom age\n",
    "def minus_minimum(x):\n",
    "    return x-x.min()"
   ]
  },
  {
   "cell_type": "code",
   "execution_count": 41,
   "metadata": {},
   "outputs": [
    {
     "name": "stdout",
     "output_type": "stream",
     "text": [
      "0     57\n",
      "1     24\n",
      "2     16\n",
      "3     59\n",
      "4     42\n",
      "      ..\n",
      "95    54\n",
      "96    56\n",
      "97    51\n",
      "98    23\n",
      "99    29\n",
      "Name: age, Length: 100, dtype: int64\n"
     ]
    }
   ],
   "source": [
    "print(df_class.age)"
   ]
  },
  {
   "cell_type": "code",
   "execution_count": 43,
   "metadata": {},
   "outputs": [
    {
     "data": {
      "text/plain": [
       "15"
      ]
     },
     "execution_count": 43,
     "metadata": {},
     "output_type": "execute_result"
    }
   ],
   "source": [
    "df_class.age.min()"
   ]
  },
  {
   "cell_type": "code",
   "execution_count": 45,
   "metadata": {},
   "outputs": [
    {
     "name": "stdout",
     "output_type": "stream",
     "text": [
      "    age\n",
      "0    42\n",
      "1     9\n",
      "2     1\n",
      "3    44\n",
      "4    27\n",
      "..  ...\n",
      "95   39\n",
      "96   41\n",
      "97   36\n",
      "98    8\n",
      "99   14\n",
      "\n",
      "[100 rows x 1 columns]\n"
     ]
    }
   ],
   "source": [
    "#transformasikan kolom age dengan fungsi minus_minimum\n",
    "print(df_class[['age']].apply(minus_minimum))"
   ]
  }
 ],
 "metadata": {
  "kernelspec": {
   "display_name": "Python 3",
   "language": "python",
   "name": "python3"
  },
  "language_info": {
   "codemirror_mode": {
    "name": "ipython",
    "version": 3
   },
   "file_extension": ".py",
   "mimetype": "text/x-python",
   "name": "python",
   "nbconvert_exporter": "python",
   "pygments_lexer": "ipython3",
   "version": "3.8.5"
  }
 },
 "nbformat": 4,
 "nbformat_minor": 4
}
