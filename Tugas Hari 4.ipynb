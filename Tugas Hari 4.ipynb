{
 "cells": [
  {
   "cell_type": "markdown",
   "metadata": {
    "id": "a9HYUdCUsrKl"
   },
   "source": [
    "<h2>Soal 1: Comparison Operator</h2>\n",
    "\n",
    "- Berikan contoh comparison dari tipe data string\n",
    "- Berikan contoh comparison dari tipe data boolean\n",
    "- Berikan contoh comparison dari tipe data integer"
   ]
  },
  {
   "cell_type": "code",
   "execution_count": 12,
   "metadata": {
    "id": "fUFkFOt0afUL"
   },
   "outputs": [
    {
     "name": "stdout",
     "output_type": "stream",
     "text": [
      "False\n",
      "False\n"
     ]
    },
    {
     "data": {
      "text/plain": [
       "True"
      ]
     },
     "execution_count": 12,
     "metadata": {},
     "output_type": "execute_result"
    }
   ],
   "source": [
    "print('john'!='john')\n",
    "\n",
    "A=True\n",
    "B=False\n",
    "print(A==B)\n",
    "\n",
    "8<=10\n",
    "\n",
    "    "
   ]
  },
  {
   "cell_type": "markdown",
   "metadata": {
    "id": "XeywALwwhZn7"
   },
   "source": [
    "\n",
    "\n",
    "---\n",
    "\n",
    "\n",
    "\n",
    "---\n",
    "\n"
   ]
  },
  {
   "cell_type": "markdown",
   "metadata": {
    "id": "IbNoZvVssrK5"
   },
   "source": [
    "<h2>Soal 2: Boolean Comparison</h2>\n",
    "\n",
    "- Berikan contoh gabungan multiple comparison menggunkan Boolean Comparisin 'and'\n",
    "- Berikan contoh gabungan multiple comparison menggunkan Boolean Comparisin 'or'\n",
    "- Berikan contoh gabungan multiple comparison menggunkan Boolean Comparisin 'not'"
   ]
  },
  {
   "cell_type": "code",
   "execution_count": 13,
   "metadata": {
    "id": "M1mwGoegaiET"
   },
   "outputs": [
    {
     "name": "stdout",
     "output_type": "stream",
     "text": [
      "True and True = True\n",
      "True and False = False\n",
      "False and True = False\n",
      "False and False = False\n",
      "True or True = True\n",
      "True or False = True\n",
      "False or True = True\n",
      "False or False = False\n",
      "data a= True\n",
      "data c= False\n"
     ]
    }
   ],
   "source": [
    "a=True\n",
    "b=True\n",
    "c=a and b\n",
    "print(a,'and',b,'=',c)\n",
    "a=True\n",
    "b=False\n",
    "c=a and b\n",
    "print(a,'and',b,'=',c)\n",
    "a=False\n",
    "b=True\n",
    "c=a and b\n",
    "print(a,'and',b,'=',c)\n",
    "a=False\n",
    "b=False\n",
    "c=a and b\n",
    "print(a,'and',b,'=',c)\n",
    "\n",
    "a=True\n",
    "b=True\n",
    "c=a or b\n",
    "print(a,'or',b,'=',c)\n",
    "a=True\n",
    "b=False\n",
    "c=a or b\n",
    "print(a,'or',b,'=',c)\n",
    "a=False\n",
    "b=True\n",
    "c=a or b\n",
    "print(a,'or',b,'=',c)\n",
    "a=False\n",
    "b=False\n",
    "c=a or b\n",
    "print(a,'or',b,'=',c)\n",
    "a=True\n",
    "c=not a\n",
    "print('data a=',a)\n",
    "print('data c=',c)\n"
   ]
  },
  {
   "cell_type": "markdown",
   "metadata": {
    "id": "Y3ejsyvqhciI"
   },
   "source": [
    "\n",
    "\n",
    "---\n",
    "\n",
    "\n",
    "\n",
    "---\n",
    "\n"
   ]
  },
  {
   "cell_type": "markdown",
   "metadata": {
    "id": "Yp_g_sPMsrLH"
   },
   "source": [
    "<h2>Soal 3: If-Else Statement</h2>\n",
    "\n",
    "Lengkapi kode untuk menghasilkan suatu output yang di harapkan\n",
    "\n",
    "- Bualah sebuah if-else statement yang dimana akan mem-print 'High' jika grade adalah 'A' dan price lebih dari 100000, kemudian mem-print 'Medium' jika grade adalah 'A' dan price lebih dari 50000 dan memprint 'low' jika grade adalah 'A' dan price lebih kecil dan sama dengan 50000."
   ]
  },
  {
   "cell_type": "code",
   "execution_count": 14,
   "metadata": {
    "id": "2PPsaN50c9ew"
   },
   "outputs": [
    {
     "name": "stdout",
     "output_type": "stream",
     "text": [
      "A\n",
      "55000\n",
      "Medium\n"
     ]
    }
   ],
   "source": [
    "#code here\n",
    "Grade=str(input())\n",
    "Price=int(input())\n",
    "\n",
    "if Grade=='A' and Price>100000:\n",
    "    print('High')\n",
    "elif Grade=='A' and Price>50000:\n",
    "    print('Medium')\n",
    "elif Grade=='A' and Price<=50000:\n",
    "    print('Low')\n",
    "else:\n",
    "    print('Unidentified')\n"
   ]
  },
  {
   "cell_type": "markdown",
   "metadata": {
    "id": "FkSxKlMNhfzn"
   },
   "source": [
    "\n",
    "\n",
    "---\n",
    "\n",
    "\n",
    "\n",
    "---\n",
    "\n"
   ]
  },
  {
   "cell_type": "markdown",
   "metadata": {
    "id": "IcoJXJT1srLW"
   },
   "source": [
    "<h2>Soal 4: Comparison Operator dengan fungsi</h2>\n",
    "\n",
    "Buatlah sebuah fungsi yang menerima satu argument bertipe data numeric dan menghasilkan sebuah return sebagai berikut :\n",
    "- menghasilkan return 'Aneh' jika nilai dari argument tersebut adalah bilangan ganjil\n",
    "- menghasilkan return 'Tidak Aneh' jika nilai dari argument tersebut adalah bilangan genap dan diantara nilai 2 sampai 5 (2 dan 5 termasuk)\n",
    "- menghasilkan return 'Aneh' jika nilai dari argument tersebut adalah bilangan genap dan diantara nilai 6 sampai 20 (6 dan 20 termasuk)\n",
    "- menghasilkan return 'Tidak Aneh' jika nilai dari argument tersebut adalah bilangan genap dan lebih besari dari 20"
   ]
  },
  {
   "cell_type": "code",
   "execution_count": 15,
   "metadata": {
    "id": "oGXGd_MhdH9D"
   },
   "outputs": [
    {
     "name": "stdout",
     "output_type": "stream",
     "text": [
      "125\n",
      "Aneh\n"
     ]
    }
   ],
   "source": [
    "# Buat fungsi\n",
    "Nilai=int(input())\n",
    "if Nilai%2==1:\n",
    "    print('Aneh')\n",
    "elif Nilai%2==0 and 2<=Nilai<=5:\n",
    "    print('Tidak Aneh')\n",
    "elif Nilai%2==0 and 6<=Nilai<=20:\n",
    "    print('Aneh')\n",
    "elif Nilai%2==0 and Nilai>20:\n",
    "    print('Tidak Aneh')\n",
    "else:\n",
    "    print('Salah Input')\n",
    "    "
   ]
  },
  {
   "cell_type": "markdown",
   "metadata": {
    "id": "QxKrmLcchhvf"
   },
   "source": [
    "\n",
    "\n",
    "---\n",
    "\n",
    "\n",
    "\n",
    "---\n",
    "\n"
   ]
  },
  {
   "cell_type": "markdown",
   "metadata": {
    "id": "gf0D64xOsrLl"
   },
   "source": [
    "<h2>Soal 5: While Loop dan For Loop</h2>\n",
    "\n",
    "- Apa perbedaan while loop dan for loop?\n",
    "- Berikan contoh sederhana cara menggunakan while loop dan for loop"
   ]
  },
  {
   "cell_type": "markdown",
   "metadata": {
    "id": "cSrE7RbvdXWe"
   },
   "source": [
    "jawaban perbedaan\n",
    "while loop akan melakukan perulangan terus menerus selama kondisi perulangan terpenuhi\n",
    "\n",
    "for loop akan melakukan perulangan sebanyak n kali"
   ]
  },
  {
   "cell_type": "code",
   "execution_count": 16,
   "metadata": {
    "id": "RSf-gg-rdY35"
   },
   "outputs": [
    {
     "name": "stdout",
     "output_type": "stream",
     "text": [
      "1 2 4 8 16 Bilangan kelipatan dua= 0\n",
      "Bilangan kelipatan dua= 2\n",
      "Bilangan kelipatan dua= 4\n",
      "Bilangan kelipatan dua= 6\n",
      "Bilangan kelipatan dua= 8\n"
     ]
    }
   ],
   "source": [
    "# jawaban contoh\n",
    "i=1\n",
    "while i<20:\n",
    "    print(i, end=' ')\n",
    "    i *=2\n",
    "\n",
    "for k in range(5):\n",
    "    print(\"Bilangan kelipatan dua=\", k*2)"
   ]
  },
  {
   "cell_type": "markdown",
   "metadata": {
    "id": "xJq6aaArhlDN"
   },
   "source": [
    "\n",
    "\n",
    "---\n",
    "\n",
    "\n",
    "\n",
    "---\n",
    "\n"
   ]
  },
  {
   "cell_type": "markdown",
   "metadata": {
    "id": "fZQpBGCgsrLz"
   },
   "source": [
    "<h2>Soal 6: While Loop</h2>\n",
    "    \n",
    "Buatlah sebuah code while loop sebagai berikut :\n",
    "- Buatlah suatu fungsi yang menerima satu input nilai numerik\n",
    "- Dalam fungsi, Buat sebuah while-loop dengan melakukan comparasi terhadap inputan tersebut, dimana looping/iterasi terus berjalan apabila nilai inputan tidak sama dengan 0\n",
    "- Dalam setiap iterasi update nilai variable inputan itu, jika input lebih dari 0, maka kurangi variabel tersebut sebesar 1, selain itu tambahkan 1\n",
    "- print nilai variable input dalam setiap awal iterasi"
   ]
  },
  {
   "cell_type": "code",
   "execution_count": 17,
   "metadata": {
    "id": "uc6N4UmedrU6"
   },
   "outputs": [
    {
     "name": "stdout",
     "output_type": "stream",
     "text": [
      "10\n",
      "9\n",
      "8\n",
      "7\n",
      "6\n",
      "5\n",
      "4\n",
      "3\n",
      "2\n",
      "1\n"
     ]
    }
   ],
   "source": [
    "a = 10\n",
    "\n",
    "def fungsi_while(angka):\n",
    "    while angka:\n",
    "        if angka >0:\n",
    "            print(angka)\n",
    "            angka -=1\n",
    "        elif angka <0:\n",
    "            print(angka)\n",
    "            angka+=1\n",
    "      \n",
    "               \n",
    "fungsi_while(a)\n"
   ]
  },
  {
   "cell_type": "markdown",
   "metadata": {
    "id": "lKzngRrlsrMD"
   },
   "source": [
    "Expected Output:\n",
    "\n",
    "jika a = 10                           \n",
    "\n",
    "10                                   \n",
    "9                      \n",
    "8   \n",
    "7   \n",
    "6  \n",
    "5  \n",
    "4  \n",
    "3  \n",
    "2  \n",
    "1\n",
    "\n",
    "jika a = -10\n",
    "\n",
    "-10                                   \n",
    "-9                        \n",
    "-8  \n",
    "-7  \n",
    "-6  \n",
    "-5  \n",
    "-4  \n",
    "-3  \n",
    "-2  \n",
    "-1\n"
   ]
  },
  {
   "cell_type": "markdown",
   "metadata": {
    "id": "MhdhusMnhn8L"
   },
   "source": [
    "\n",
    "\n",
    "---\n",
    "\n",
    "\n",
    "\n",
    "---\n",
    "\n"
   ]
  },
  {
   "cell_type": "markdown",
   "metadata": {
    "id": "DnAUJ4TzgmOp"
   },
   "source": [
    "<h2>Soal 7: For Loop</h2>\n",
    "\n",
    "Lengkapi kode untuk menghasilkan suatu output yang diharapkan:\n",
    "\n",
    "\n",
    "\n",
    "\n",
    "\n",
    "*   Cari siswa mana saja yang memiliki nilai lebih dari sama dengan 80. Masukkan kedalam sebuah list. print hasilnya\n",
    "\n",
    "\n",
    "\n",
    "\n"
   ]
  },
  {
   "cell_type": "code",
   "execution_count": 18,
   "metadata": {
    "id": "aeuMIX8_hGCW"
   },
   "outputs": [],
   "source": [
    "data_siswa = [\n",
    "    {\n",
    "        \"nama\":\"Budi\",\n",
    "        \"nilai\": 90\n",
    "    },\n",
    "    {\n",
    "        \"nama\":\"Nina\",\n",
    "        \"nilai\": 78\n",
    "    },\n",
    "    {\n",
    "        \"nama\":\"Rudi\",\n",
    "        \"nilai\": 91\n",
    "    },\n",
    "    {\n",
    "        \"nama\":\"Olivia\",\n",
    "        \"nilai\": 76\n",
    "    },\n",
    "    {\n",
    "        \"nama\":\"Leo\",\n",
    "        \"nilai\": 80\n",
    "    },\n",
    "    {\n",
    "        \"nama\":\"Liam\",\n",
    "        \"nilai\": 67\n",
    "    },\n",
    "    {\n",
    "        \"nama\":\"Sheila\",\n",
    "        \"nilai\": 76\n",
    "    }\n",
    "]"
   ]
  },
  {
   "cell_type": "code",
   "execution_count": 19,
   "metadata": {
    "id": "XlQsAeOchKLP"
   },
   "outputs": [
    {
     "name": "stdout",
     "output_type": "stream",
     "text": [
      "['Budi', 'Rudi', 'Leo']\n"
     ]
    }
   ],
   "source": [
    "#code here\n",
    "list_nilai=[]\n",
    "for i in data_siswa:\n",
    "    if i['nilai']>=80:\n",
    "        list_nilai.append(i['nama'])\n",
    "print(list_nilai)"
   ]
  },
  {
   "cell_type": "markdown",
   "metadata": {
    "id": "xIFJBG5PhL_5"
   },
   "source": [
    "Expected output:\n",
    "\n",
    "['Budi', 'Rudi', 'Leo']"
   ]
  },
  {
   "cell_type": "markdown",
   "metadata": {
    "id": "6qKCmZB0hqH9"
   },
   "source": [
    "\n",
    "\n",
    "---\n",
    "\n",
    "\n",
    "\n",
    "---\n",
    "\n"
   ]
  },
  {
   "cell_type": "markdown",
   "metadata": {
    "id": "IWg3Z_zZsrMG"
   },
   "source": [
    "<h2>Soal 8: For Loop Enumerate</h2>\n",
    "    \n",
    "Lengkapi kode untuk menghasilkan suatu output yang di harapkan:\n",
    "\n",
    "- Buatlah sebuah loop dengan mengiterasi sebuah objek list kemudian di kalikan dengan index dari list tersebut dan print hasilnya"
   ]
  },
  {
   "cell_type": "code",
   "execution_count": 24,
   "metadata": {
    "id": "wvxcRiq2gYS9"
   },
   "outputs": [
    {
     "name": "stdout",
     "output_type": "stream",
     "text": [
      "0\n",
      "16\n",
      "22\n",
      "30\n",
      "20\n"
     ]
    }
   ],
   "source": [
    "\n",
    "# lengkapi code di bawah\n",
    "obj_list= [1, 16, 11, 10, 5]\n",
    "for index,nilai in enumerate(obj_list):\n",
    "    print(nilai*index)\n"
   ]
  },
  {
   "cell_type": "markdown",
   "metadata": {
    "id": "OGawROjnsrMU"
   },
   "source": [
    "Expected Output:\n",
    "\n",
    "0\n",
    "\n",
    "16\n",
    "\n",
    "22\n",
    "\n",
    "30\n",
    "\n",
    "20\n"
   ]
  },
  {
   "cell_type": "markdown",
   "metadata": {
    "id": "BEaVi_Z5hror"
   },
   "source": [
    "\n",
    "\n",
    "---\n",
    "\n",
    "\n",
    "\n",
    "---\n",
    "\n"
   ]
  }
 ],
 "metadata": {
  "colab": {
   "collapsed_sections": [],
   "name": " Tugas Hari 4.ipynb",
   "provenance": []
  },
  "kernelspec": {
   "display_name": "Python 3",
   "language": "python",
   "name": "python3"
  },
  "language_info": {
   "codemirror_mode": {
    "name": "ipython",
    "version": 3
   },
   "file_extension": ".py",
   "mimetype": "text/x-python",
   "name": "python",
   "nbconvert_exporter": "python",
   "pygments_lexer": "ipython3",
   "version": "3.8.5"
  }
 },
 "nbformat": 4,
 "nbformat_minor": 1
}
