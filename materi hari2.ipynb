{
 "cells": [
  {
   "cell_type": "code",
   "execution_count": 1,
   "metadata": {},
   "outputs": [],
   "source": [
    "#inisialisasi suhu anggota keluarga"
   ]
  },
  {
   "cell_type": "code",
   "execution_count": 2,
   "metadata": {},
   "outputs": [],
   "source": [
    "suhu1=21\n",
    "suhu2=20\n",
    "suhu3=22\n",
    "#simpan dalam list\n",
    "suhu_keluarga=[suhu1,suhu2,suhu3]"
   ]
  },
  {
   "cell_type": "code",
   "execution_count": 4,
   "metadata": {},
   "outputs": [],
   "source": [
    "#membuat list\n",
    "suhu_keluarga_dayat=['ayah dayat',19,'dayat',19,'ibu dayat',20]\n",
    "suhu_keluarga_ucup=['istri ucup',20,'ucup',19,'anak ucup',22]\n",
    "#membuat list dalam list dan dicampur dengan data boolean\n",
    "suhu_keluarga1=[suhu_keluarga_dayat,suhu_keluarga_ucup,True]"
   ]
  },
  {
   "cell_type": "code",
   "execution_count": 8,
   "metadata": {},
   "outputs": [
    {
     "name": "stdout",
     "output_type": "stream",
     "text": [
      "162\n"
     ]
    }
   ],
   "source": [
    "#membuat data list\n",
    "tinggi_badan=[162, # index 0\n",
    "             177, # index 1\n",
    "             182, # index 2\n",
    "             150, # index 3\n",
    "             166, # index 4\n",
    "             ]\n",
    "#subsetting list\n",
    "print(tinggi_badan[0])"
   ]
  },
  {
   "cell_type": "code",
   "execution_count": 9,
   "metadata": {},
   "outputs": [
    {
     "name": "stdout",
     "output_type": "stream",
     "text": [
      "150\n"
     ]
    }
   ],
   "source": [
    "#posisi 2 terakhir\n",
    "print(tinggi_badan[-2])"
   ]
  },
  {
   "cell_type": "code",
   "execution_count": 10,
   "metadata": {},
   "outputs": [
    {
     "name": "stdout",
     "output_type": "stream",
     "text": [
      "[162, 177, 182, 150]\n"
     ]
    }
   ],
   "source": [
    "#slicing list\n",
    "#mengambil data index 0,1,2,3\n",
    "print(tinggi_badan[:4])"
   ]
  },
  {
   "cell_type": "code",
   "execution_count": 12,
   "metadata": {},
   "outputs": [
    {
     "name": "stdout",
     "output_type": "stream",
     "text": [
      "[182, 150, 166]\n"
     ]
    }
   ],
   "source": [
    "#mengambil data dengan index 2,3,4\n",
    "print(tinggi_badan[2:5])"
   ]
  },
  {
   "cell_type": "code",
   "execution_count": 13,
   "metadata": {},
   "outputs": [
    {
     "name": "stdout",
     "output_type": "stream",
     "text": [
      "['ayah dayat', 19, 'dayat', 19, 'ibu dayat', 20]\n"
     ]
    }
   ],
   "source": [
    "#mengubah suhu dayat suhu_keluarga_dayat[3]=22\n",
    "print(suhu_keluarga_dayat)"
   ]
  },
  {
   "cell_type": "code",
   "execution_count": 14,
   "metadata": {},
   "outputs": [
    {
     "name": "stdout",
     "output_type": "stream",
     "text": [
      "['ayah dayat', 19, 'dayat', 19, 'ibu dayat', 22]\n"
     ]
    }
   ],
   "source": [
    "suhu_keluarga_dayat[-2:]=['ibu dayat',22]\n",
    "print(suhu_keluarga_dayat)"
   ]
  },
  {
   "cell_type": "code",
   "execution_count": 15,
   "metadata": {},
   "outputs": [
    {
     "name": "stdout",
     "output_type": "stream",
     "text": [
      "['ayah dayat', 19, 'dayat', 19, 'ibu dayat', 22, 'adik dayat', 20]\n"
     ]
    }
   ],
   "source": [
    "suhu_keluarga_dayat=suhu_keluarga_dayat+['adik dayat',20]\n",
    "print(suhu_keluarga_dayat)"
   ]
  },
  {
   "cell_type": "code",
   "execution_count": 17,
   "metadata": {},
   "outputs": [
    {
     "name": "stdout",
     "output_type": "stream",
     "text": [
      "['Ayu', 'Bagus', 'Fajar', 'Cahyo', 'Ani', 'Rizki']\n",
      "['Ayu', 'Bagus', 'Ahmad', 'Fajar', 'Cahyo', 'Ani', 'Rizki']\n"
     ]
    }
   ],
   "source": [
    "#menggunakan .append() atau .insert()\n",
    "#append akan menambahakn nilai pada index terakhir\n",
    "#insert menambahkan nilai berdasarkan index yang diinginkan\n",
    "murid=['Ayu','Bagus','Fajar','Cahyo','Ani']\n",
    "murid.append('Rizki')\n",
    "print(murid)\n",
    "murid.insert(2,'Ahmad')\n",
    "print(murid)"
   ]
  },
  {
   "cell_type": "code",
   "execution_count": 18,
   "metadata": {},
   "outputs": [
    {
     "name": "stdout",
     "output_type": "stream",
     "text": [
      "19\n"
     ]
    }
   ],
   "source": [
    "#menghapus element di list\n",
    "del(suhu_keluarga_dayat[0])\n",
    "print(suhu_keluarga_dayat[0])"
   ]
  },
  {
   "cell_type": "code",
   "execution_count": 20,
   "metadata": {},
   "outputs": [
    {
     "name": "stdout",
     "output_type": "stream",
     "text": [
      "['Ayu', 'Bagus', 'Cahyo', 'Ani']\n",
      "['Ayu', 'Bagus', 'Cahyo']\n",
      "['Ayu', 'Bagus', 'Fajar', 'Ani']\n"
     ]
    }
   ],
   "source": [
    "#menggunakan remove dan pop utk menghapus element\n",
    "siswa=['Ayu','Bagus','Fajar','Cahyo','Ani']\n",
    "siswa.pop(2)\n",
    "print(siswa)\n",
    "siswa.pop()\n",
    "print(siswa)\n",
    "siswa=['Ayu','Bagus','Fajar','Cahyo','Ani']\n",
    "siswa.remove('Cahyo')\n",
    "print(siswa)"
   ]
  },
  {
   "cell_type": "code",
   "execution_count": 21,
   "metadata": {},
   "outputs": [
    {
     "name": "stdout",
     "output_type": "stream",
     "text": [
      "5\n"
     ]
    }
   ],
   "source": [
    "keluarga_ucup=['mama','papa','ucup','adek ucup','kakak ucup']\n",
    "print(len(keluarga_ucup))"
   ]
  },
  {
   "cell_type": "code",
   "execution_count": 22,
   "metadata": {},
   "outputs": [
    {
     "name": "stdout",
     "output_type": "stream",
     "text": [
      "['adek ucup', 'kakak ucup', 'mama', 'papa', 'ucup']\n"
     ]
    }
   ],
   "source": [
    "#mengurutkan elemen list\n",
    "print(sorted(keluarga_ucup))"
   ]
  },
  {
   "cell_type": "code",
   "execution_count": 23,
   "metadata": {},
   "outputs": [
    {
     "name": "stdout",
     "output_type": "stream",
     "text": [
      "17\n"
     ]
    }
   ],
   "source": [
    "#sum untuk menjumlahkan\n",
    "primes=[2,3,5,7]\n",
    "print(sum(primes))"
   ]
  },
  {
   "cell_type": "code",
   "execution_count": 24,
   "metadata": {},
   "outputs": [
    {
     "name": "stdout",
     "output_type": "stream",
     "text": [
      "[1, 2, 3, 4, 5]\n",
      "[1, 2, 3, 4, 5]\n"
     ]
    }
   ],
   "source": [
    "#.copy() digunakan untuk menyalin suatu list ke dalam list baru\n",
    "#yang memiliki nilai yang sama tanpa mengubah nilai aslinya\n",
    "a=[1,2,3,4,5]\n",
    "b=a.copy()\n",
    "print(a)\n",
    "print(b)"
   ]
  },
  {
   "cell_type": "code",
   "execution_count": 25,
   "metadata": {},
   "outputs": [
    {
     "name": "stdout",
     "output_type": "stream",
     "text": [
      "[1, 2, 3, 4, 5]\n",
      "[1, 2, 3, 4, 5, 6]\n"
     ]
    }
   ],
   "source": [
    "#lakukan manipulasi terhadap list b\n",
    "b.append(6)\n",
    "print(a)\n",
    "print(b)"
   ]
  },
  {
   "cell_type": "code",
   "execution_count": 27,
   "metadata": {},
   "outputs": [
    {
     "name": "stdout",
     "output_type": "stream",
     "text": [
      "[1, 5, 10, 6, 7, 8, 12]\n",
      "[10, 8, 12]\n"
     ]
    }
   ],
   "source": [
    "#list comperehension adalah cara elegan untuk membuat list berdasarkan list yang ada\n",
    "number=[1,5,10,6,7,8,12]\n",
    "result=[i for i in number if i>7]\n",
    "print(number)\n",
    "print(result)"
   ]
  },
  {
   "cell_type": "code",
   "execution_count": 29,
   "metadata": {},
   "outputs": [
    {
     "name": "stdout",
     "output_type": "stream",
     "text": [
      "(1, 2, 3, 4) (1,)\n"
     ]
    }
   ],
   "source": [
    "#tuple=struktur data yang digunakan untuk menyimpan satu atau lebih\n",
    "#dat di dalamnya. Perbedaannya=anggota tuple tidak dapat diubah sebagian\n",
    "#akan tetapi dapat diubah keseluruhan dengan memanfaatkan melakukan\n",
    "#inisisasi variabel dengan nilai yang baru\n",
    "#inisiasi variabel tuple dilakukan dengan menggunakan tanda kurun()\n",
    "tuple_01=(1,2,3,4)\n",
    "#untuk menginisiasi tuple dengan satu anggota harus menggunakan tanda koma\n",
    "#setelah anggota pertama\n",
    "tuple_02=(1,)\n",
    "print(tuple_01,tuple_02)"
   ]
  },
  {
   "cell_type": "code",
   "execution_count": 30,
   "metadata": {},
   "outputs": [
    {
     "name": "stdout",
     "output_type": "stream",
     "text": [
      "2\n",
      "4\n"
     ]
    }
   ],
   "source": [
    "#mengakses anggota tuple\n",
    "#mengakses index positif\n",
    "print(tuple_01[1])\n",
    "#mengakses index negatif\n",
    "print(tuple_01[-1])"
   ]
  },
  {
   "cell_type": "code",
   "execution_count": 31,
   "metadata": {},
   "outputs": [
    {
     "name": "stdout",
     "output_type": "stream",
     "text": [
      "(1, 2)\n",
      "(1, 2, 3, 4)\n"
     ]
    }
   ],
   "source": [
    "#tuple tidak bisa mengubah atau menambah element\n",
    "#namun tuple dapat dipotong dan diduplikasi seperti list\n",
    "tuple_03=tuple_01[0:2]\n",
    "tuple_04=tuple_01[:]\n",
    "print(tuple_03)\n",
    "print(tuple_04)"
   ]
  },
  {
   "cell_type": "code",
   "execution_count": 32,
   "metadata": {},
   "outputs": [
    {
     "name": "stdout",
     "output_type": "stream",
     "text": [
      "1 2 3 4\n",
      "<class 'int'> <class 'int'> <class 'int'> <class 'int'>\n"
     ]
    }
   ],
   "source": [
    "#Walau kita tidak dapat melakukan perubahan pada tuple,\n",
    "#tapi kita bisa menginisiasikan anggota tuple ke dalam variabel-variabel.\n",
    "#Hanya saja variabel yang diinisiasikan harus berjumlah sama dengan anggota tuple tersebut.\n",
    "tuple_01=(1,2,3,4)\n",
    "#akan dimasukkan ke dalam 4 variabel dikarenakan tuple memiliki 4 anggota\n",
    "a,b,c,d=tuple_01\n",
    "print(a,b,c,d)\n",
    "print(type(a),type(b),type(c),type(d))"
   ]
  },
  {
   "cell_type": "code",
   "execution_count": 34,
   "metadata": {},
   "outputs": [
    {
     "name": "stdout",
     "output_type": "stream",
     "text": [
      "{2, 4, 5, 6}\n",
      "<class 'set'>\n",
      "{1, 2, 3, 4}\n"
     ]
    }
   ],
   "source": [
    "#set(himpunan)\n",
    "#ada dua cara membuat sel\n",
    "#pertama menggunakan {}\n",
    "set_01={4,5,6,2}\n",
    "print(set_01)\n",
    "#menggunakan set()\n",
    "set_02=set()\n",
    "set_03=set([2,1,4,3])\n",
    "print(type(set_02))\n",
    "print(set_03)"
   ]
  },
  {
   "cell_type": "code",
   "execution_count": 35,
   "metadata": {},
   "outputs": [
    {
     "name": "stdout",
     "output_type": "stream",
     "text": [
      "{2, 5, 6}\n",
      "{5, 6}\n"
     ]
    }
   ],
   "source": [
    "#tidak dapat mengakses anggota set seperti list atau tuple karena tdak memiliki index\\\n",
    "#ada dua metode utk menghapus anggota set\n",
    "#discard()\n",
    "set_01={4,5,6,2}\n",
    "set_01.discard(4)\n",
    "print(set_01)\n",
    "#remove()\n",
    "set_01.remove(2)\n",
    "print(set_01)\n"
   ]
  },
  {
   "cell_type": "code",
   "execution_count": 37,
   "metadata": {},
   "outputs": [
    {
     "name": "stdout",
     "output_type": "stream",
     "text": [
      "{1, 2, 3, 4, 5, 6}\n",
      "{1, 2, 3, 4, 5, 6, 7, 8}\n"
     ]
    }
   ],
   "source": [
    "#mengubah dan menambah anggota set\n",
    "#add() digunakan untuk menambah satu anggota pada set\n",
    "set_04={2,3,4,5,6}\n",
    "set_04.add(1)\n",
    "print(set_04)\n",
    "#update() digunakan untuk menambahkan lebih dari satu anggota, bisa memasukkan list atau tuple sebagai bahan\n",
    "set_04.update([4,7,8])\n",
    "print(set_04)"
   ]
  },
  {
   "cell_type": "code",
   "execution_count": 39,
   "metadata": {},
   "outputs": [],
   "source": [
    "#operasi pada set\n",
    "#ada 4 operasi(union,intersection,difference,symmetric difference)\n",
    "Set_A={1,2,3,4}\n",
    "Set_B={3,4,5,6}"
   ]
  },
  {
   "cell_type": "code",
   "execution_count": 40,
   "metadata": {},
   "outputs": [
    {
     "name": "stdout",
     "output_type": "stream",
     "text": [
      "{1, 2, 3, 4, 5, 6}\n",
      "{1, 2, 3, 4, 5, 6}\n"
     ]
    }
   ],
   "source": [
    "#union=menggabungkan semua anggota set\n",
    "#dengan menggunakan \"|\" atau .union()\n",
    "print(Set_A|Set_B)\n",
    "print(Set_A.union(Set_B))"
   ]
  },
  {
   "cell_type": "code",
   "execution_count": 41,
   "metadata": {},
   "outputs": [
    {
     "name": "stdout",
     "output_type": "stream",
     "text": [
      "{3, 4}\n",
      "{3, 4}\n"
     ]
    }
   ],
   "source": [
    "#intersection=irisan\n",
    "#menggunakan \"&\" atau .intersection()\n",
    "print(Set_A&Set_B)\n",
    "print(Set_A.intersection(Set_B))"
   ]
  },
  {
   "cell_type": "code",
   "execution_count": 42,
   "metadata": {},
   "outputs": [
    {
     "name": "stdout",
     "output_type": "stream",
     "text": [
      "{1, 2}\n",
      "{1, 2}\n"
     ]
    }
   ],
   "source": [
    "#Difference=perbedaan anggota dari 2 set atau lebih\n",
    "#menggunakan \"-\" atau .difference()\n",
    "#A-B\n",
    "print(Set_A - Set_B)\n",
    "print(Set_A.difference(Set_B))"
   ]
  },
  {
   "cell_type": "code",
   "execution_count": 43,
   "metadata": {},
   "outputs": [
    {
     "name": "stdout",
     "output_type": "stream",
     "text": [
      "{1, 2, 5, 6}\n",
      "{1, 2, 5, 6}\n"
     ]
    }
   ],
   "source": [
    "#Symmetric Difference=semua anggota set A dan B selain irisan dari 2 set tsb\n",
    "#menggunakan \"^\" atau .symmetric_difference()\n",
    "print(Set_A^Set_B)\n",
    "print(Set_A.symmetric_difference(Set_B))"
   ]
  },
  {
   "cell_type": "code",
   "execution_count": 44,
   "metadata": {},
   "outputs": [
    {
     "name": "stdout",
     "output_type": "stream",
     "text": [
      "1\n"
     ]
    }
   ],
   "source": [
    "#Dictionary=jenis tipe data di python yang memetakan antara key dan value suatu data\n",
    "numbers={'one':1,'two':2,'three':3}\n",
    "print(numbers['one'])\n"
   ]
  },
  {
   "cell_type": "code",
   "execution_count": 45,
   "metadata": {},
   "outputs": [
    {
     "name": "stdout",
     "output_type": "stream",
     "text": [
      "{'one': 'satu', 'two': 2, 'three': 3}\n"
     ]
    }
   ],
   "source": [
    "#mengubah nilai dalam dictionary\n",
    "numbers['one']='satu'\n",
    "print(numbers)"
   ]
  },
  {
   "cell_type": "code",
   "execution_count": 46,
   "metadata": {},
   "outputs": [
    {
     "name": "stdout",
     "output_type": "stream",
     "text": [
      "one=satu\n",
      "two=2\n",
      "three=3\n"
     ]
    }
   ],
   "source": [
    "# Jika kita melakukan loop pada suatu dictionary, maka kita akan me-loop terhadap key pada dictionary tersebut: \n",
    "for k in numbers:\n",
    "    print(\"{}={}\".format(k,numbers[k]))"
   ]
  },
  {
   "cell_type": "code",
   "execution_count": 47,
   "metadata": {},
   "outputs": [
    {
     "name": "stdout",
     "output_type": "stream",
     "text": [
      "satu\n",
      "2\n",
      "3\n"
     ]
    }
   ],
   "source": [
    "#Jika kita ingin melakukan iterasi terhadap valuenya saja, maka kita bisa gunakan: \n",
    "for key in numbers.values():\n",
    "    print(\"{}\".format(key))"
   ]
  },
  {
   "cell_type": "code",
   "execution_count": 48,
   "metadata": {},
   "outputs": [
    {
     "name": "stdout",
     "output_type": "stream",
     "text": [
      "one=satu\n",
      "two=2\n",
      "three=3\n"
     ]
    }
   ],
   "source": [
    "#Object dictionary mempunyai suatu method yang bernama items(),\n",
    "#dimana dengan fungsi ini kita dapat melakukan loop terhadap suatu dictionary\n",
    "#beserta dengan key dan value nya:\n",
    "for key, value in numbers.items():\n",
    "    print(\"{}={}\".format(key,value))"
   ]
  },
  {
   "cell_type": "code",
   "execution_count": 49,
   "metadata": {},
   "outputs": [
    {
     "data": {
      "text/plain": [
       "True"
      ]
     },
     "execution_count": 49,
     "metadata": {},
     "output_type": "execute_result"
    }
   ],
   "source": [
    "#'in' digunakan untuk mengecek suatu key tertentu dalam dictionary yang menghasilkan nilai boolean true or false\n",
    "'one' in numbers"
   ]
  },
  {
   "cell_type": "code",
   "execution_count": 50,
   "metadata": {},
   "outputs": [
    {
     "name": "stdout",
     "output_type": "stream",
     "text": [
      "{'one': 1, 'two': 2, 'three': 3, 'four': 10}\n"
     ]
    }
   ],
   "source": [
    "#Untuk menambahkan item dalam dictionary, bisa menggunakan syntaks seperti berikut:\n",
    "numbers={'one':1,'two':2,'three':3}\n",
    "numbers['four']=10\n",
    "print(numbers)"
   ]
  },
  {
   "cell_type": "code",
   "execution_count": 51,
   "metadata": {},
   "outputs": [
    {
     "name": "stdout",
     "output_type": "stream",
     "text": [
      "{'one': 1, 'two': 5, 'three': 3, 'four': 10}\n"
     ]
    }
   ],
   "source": [
    "numbers1={'two':5}\n",
    "numbers.update(numbers1)\n",
    "print(numbers)"
   ]
  },
  {
   "cell_type": "code",
   "execution_count": 58,
   "metadata": {},
   "outputs": [
    {
     "name": "stdout",
     "output_type": "stream",
     "text": [
      "{'four': 10, 'three': 3, 'two': 5}\n",
      "{}\n",
      "{'three': 3, 'two': 5}\n"
     ]
    }
   ],
   "source": [
    "#menghapus anggota pada set\n",
    "#using .pop()\n",
    "numbers={'four':10,'one':1,'three':3,'two':5}\n",
    "numbers.pop('one')\n",
    "print(numbers)\n",
    "#using .clear()\n",
    "numbers.clear()\n",
    "print(numbers)\n",
    "#using delete()\n",
    "numbers={'four':10,'three':3,'two':5}\n",
    "del numbers['four']\n",
    "print(numbers)"
   ]
  },
  {
   "cell_type": "code",
   "execution_count": 59,
   "metadata": {},
   "outputs": [
    {
     "ename": "NameError",
     "evalue": "name 'numbers' is not defined",
     "output_type": "error",
     "traceback": [
      "\u001b[1;31m---------------------------------------------------------------------------\u001b[0m",
      "\u001b[1;31mNameError\u001b[0m                                 Traceback (most recent call last)",
      "\u001b[1;32m<ipython-input-59-b55e5d32b978>\u001b[0m in \u001b[0;36m<module>\u001b[1;34m\u001b[0m\n\u001b[0;32m      1\u001b[0m \u001b[1;32mdel\u001b[0m \u001b[0mnumbers\u001b[0m\u001b[1;33m\u001b[0m\u001b[1;33m\u001b[0m\u001b[0m\n\u001b[1;32m----> 2\u001b[1;33m \u001b[0mprint\u001b[0m\u001b[1;33m(\u001b[0m\u001b[0mnumbers\u001b[0m\u001b[1;33m)\u001b[0m\u001b[1;33m\u001b[0m\u001b[1;33m\u001b[0m\u001b[0m\n\u001b[0m",
      "\u001b[1;31mNameError\u001b[0m: name 'numbers' is not defined"
     ]
    }
   ],
   "source": [
    "del numbers\n",
    "print(numbers)\n"
   ]
  },
  {
   "cell_type": "code",
   "execution_count": null,
   "metadata": {},
   "outputs": [],
   "source": []
  }
 ],
 "metadata": {
  "kernelspec": {
   "display_name": "Python 3",
   "language": "python",
   "name": "python3"
  },
  "language_info": {
   "codemirror_mode": {
    "name": "ipython",
    "version": 3
   },
   "file_extension": ".py",
   "mimetype": "text/x-python",
   "name": "python",
   "nbconvert_exporter": "python",
   "pygments_lexer": "ipython3",
   "version": "3.8.5"
  }
 },
 "nbformat": 4,
 "nbformat_minor": 4
}
