{
 "cells": [
  {
   "cell_type": "markdown",
   "metadata": {
    "id": "EqmubOp2whk3"
   },
   "source": [
    "# Soal 1. Pemahaman k-means clustering\n",
    "\n",
    "Jelaskan bagaimana cara kerja k-means clustering!"
   ]
  },
  {
   "cell_type": "markdown",
   "metadata": {
    "id": "gf8y3llqw369"
   },
   "source": [
    "Jawab disini:\n",
    "\n"
   ]
  },
  {
   "cell_type": "markdown",
   "metadata": {
    "id": "oXGsjqHCk7DW"
   },
   "source": [
    "1. Inisiasi jumlah kluster secara random. K adalah sebuah parameter yang mewakilkan angka dari cluster yang data points nya akan dilakukan pengelompokan.\n",
    "2. Tentukan posisi centroid secara random.\n",
    "3. Hitung jarak antara data point ke centroid. Assign setiap data ke centroid terdekat (hal ini akan membentuk  k clusters).Perhitungan jarak antara titik data ke centroid menggunakan formula euclidean distance.\n",
    "4. Kemudian hitung ulang centroid berdasarkan label-label data sebelumnya. Disini kita buat kembali centroid baru dan menghitung kembali jarak antar data poin ke centroid.\n",
    "5. Kemudian di assign kembali data poin ke centroid terdekat yang terbaru, dan kita cek apakah ada perubahan dalam cluster atau tidak, jika ada maka kita perlu kembali ke poin 4 mencari posisi centroid yang tidak mengubah cluster. Hal ini kita lakukan perulangan sampai posisi centroid tidak berubah lagi. \n",
    "\n",
    "---\n",
    "\n",
    "---\n",
    "\n",
    "\n",
    "\n",
    "---\n",
    "\n",
    "\n",
    "\n",
    "\n",
    "\n",
    "\n",
    "\n",
    "\n",
    "\n",
    "\n",
    "\n",
    "\n",
    "\n",
    "---\n",
    "\n"
   ]
  },
  {
   "cell_type": "markdown",
   "metadata": {
    "id": "NoX-A3wElHoq"
   },
   "source": [
    "Download disini [pelanggan.csv](https://drive.google.com/uc?export=download&id=1jX_rLPfcCfzEEgy9xaoALmpqfU2s5TTB)"
   ]
  },
  {
   "cell_type": "code",
   "execution_count": 1,
   "metadata": {
    "colab": {
     "base_uri": "https://localhost:8080/",
     "height": 204
    },
    "executionInfo": {
     "elapsed": 776,
     "status": "ok",
     "timestamp": 1617786708008,
     "user": {
      "displayName": "Afrida hafizhatul Ulum",
      "photoUrl": "https://lh3.googleusercontent.com/a-/AOh14GhlS_9Q6i4q4ai8Ae6HYz-8Ub9PE3QIsxfVPf8tEQ=s64",
      "userId": "06287560445691811212"
     },
     "user_tz": -420
    },
    "id": "rqRBoUBsw7S0",
    "outputId": "4795491d-6d80-4b6d-dbc1-f6afb60bd02d"
   },
   "outputs": [
    {
     "data": {
      "text/html": [
       "<div>\n",
       "<style scoped>\n",
       "    .dataframe tbody tr th:only-of-type {\n",
       "        vertical-align: middle;\n",
       "    }\n",
       "\n",
       "    .dataframe tbody tr th {\n",
       "        vertical-align: top;\n",
       "    }\n",
       "\n",
       "    .dataframe thead th {\n",
       "        text-align: right;\n",
       "    }\n",
       "</style>\n",
       "<table border=\"1\" class=\"dataframe\">\n",
       "  <thead>\n",
       "    <tr style=\"text-align: right;\">\n",
       "      <th></th>\n",
       "      <th>ID_pelanggan</th>\n",
       "      <th>Jenis Kelamin</th>\n",
       "      <th>Umur</th>\n",
       "      <th>Pendapatan pertahun (juta)</th>\n",
       "      <th>Skor Belanja (1-100)</th>\n",
       "    </tr>\n",
       "  </thead>\n",
       "  <tbody>\n",
       "    <tr>\n",
       "      <th>0</th>\n",
       "      <td>1</td>\n",
       "      <td>Laki-laki</td>\n",
       "      <td>19.0</td>\n",
       "      <td>15</td>\n",
       "      <td>39.0</td>\n",
       "    </tr>\n",
       "    <tr>\n",
       "      <th>1</th>\n",
       "      <td>2</td>\n",
       "      <td>Laki-laki</td>\n",
       "      <td>21.0</td>\n",
       "      <td>15</td>\n",
       "      <td>81.0</td>\n",
       "    </tr>\n",
       "    <tr>\n",
       "      <th>2</th>\n",
       "      <td>3</td>\n",
       "      <td>Perempuan</td>\n",
       "      <td>20.0</td>\n",
       "      <td>16</td>\n",
       "      <td>6.0</td>\n",
       "    </tr>\n",
       "    <tr>\n",
       "      <th>3</th>\n",
       "      <td>4</td>\n",
       "      <td>Perempuan</td>\n",
       "      <td>23.0</td>\n",
       "      <td>16</td>\n",
       "      <td>77.0</td>\n",
       "    </tr>\n",
       "    <tr>\n",
       "      <th>4</th>\n",
       "      <td>5</td>\n",
       "      <td>Perempuan</td>\n",
       "      <td>31.0</td>\n",
       "      <td>17</td>\n",
       "      <td>40.0</td>\n",
       "    </tr>\n",
       "  </tbody>\n",
       "</table>\n",
       "</div>"
      ],
      "text/plain": [
       "   ID_pelanggan Jenis Kelamin  Umur  Pendapatan pertahun (juta)  \\\n",
       "0             1     Laki-laki  19.0                          15   \n",
       "1             2     Laki-laki  21.0                          15   \n",
       "2             3     Perempuan  20.0                          16   \n",
       "3             4     Perempuan  23.0                          16   \n",
       "4             5     Perempuan  31.0                          17   \n",
       "\n",
       "   Skor Belanja (1-100)  \n",
       "0                  39.0  \n",
       "1                  81.0  \n",
       "2                   6.0  \n",
       "3                  77.0  \n",
       "4                  40.0  "
      ]
     },
     "execution_count": 1,
     "metadata": {},
     "output_type": "execute_result"
    }
   ],
   "source": [
    "import pandas as pd\n",
    "import numpy as np\n",
    "import seaborn as sns\n",
    "df = pd.read_csv('pelanggan_supermarket.csv')\n",
    "df.head()"
   ]
  },
  {
   "cell_type": "markdown",
   "metadata": {
    "id": "AByM6XoYMkTy"
   },
   "source": [
    "# Soal 2. Clustering data menggunakan k-means clustering\n",
    "\n",
    "Dalam soal ini, kalian diminta untuk melakukan clustering antara data Umur dan Skor Belanja(1-100). Namun, clustering tidak bisa dilakukan karena data memiliki outlier dan missing value. Maka, lakukanlah tahapan-tahapan berikut:\n",
    "\n",
    "*   Handling missing value dengan menggunakan method ='ffill'\n",
    "*   Handling outlier menggunakan metode Interquartile range\n",
    "*   Lakukan rescaling data menggunakan StandardScaler\n",
    "*   Lakukan clustering menggunakan kmeans clustering dengan k =2, dan visualisasikan.. \n",
    "*   Gunakan Elbow method untuk menemukan jumlah k kluster yang tepat\n",
    "*   Gunakan k=3 (rekomendasi methode Elbow) lalu visualisasikan\n",
    "*   Hitung silhoutte Coefficient dari ke dua hasil prediksi klustering tersebut\n",
    "\n",
    "\n",
    "\n",
    "\n",
    "\n",
    "\n",
    "\n",
    "\n"
   ]
  },
  {
   "cell_type": "code",
   "execution_count": 2,
   "metadata": {
    "id": "l2u2IRm4Ou_9"
   },
   "outputs": [],
   "source": [
    "#code here\n",
    "df1=df.fillna(method='ffill')\n",
    "def remove_outlier(x):\n",
    "    q1=df1.quantile(0.25)\n",
    "    q3=df1.quantile(0.75)\n",
    "    iqr=q3-q1\n",
    "    df_final=df1[~((df1<(q1-(1.5*iqr))) | (df1>(q3+(1.5*iqr))))]\n",
    "    return df_final"
   ]
  },
  {
   "cell_type": "code",
   "execution_count": 5,
   "metadata": {},
   "outputs": [
    {
     "data": {
      "text/plain": [
       "<AxesSubplot:xlabel='Umur'>"
      ]
     },
     "execution_count": 5,
     "metadata": {},
     "output_type": "execute_result"
    },
    {
     "data": {
      "image/png": "[encoded data removed]",
      "text/plain": [
       "<Figure size 432x288 with 1 Axes>"
      ]
     },
     "metadata": {
      "needs_background": "light"
     },
     "output_type": "display_data"
    }
   ],
   "source": [
    "df2 = remove_outlier(df[['Umur', 'Skor Belanja (1-100)']])\n",
    "df2.dropna(axis=0, inplace=True)\n",
    "sns.boxplot(x='Umur',data=df2)"
   ]
  },
  {
   "cell_type": "code",
   "execution_count": 6,
   "metadata": {},
   "outputs": [
    {
     "data": {
      "text/plain": [
       "<AxesSubplot:xlabel='Skor Belanja (1-100)'>"
      ]
     },
     "execution_count": 6,
     "metadata": {},
     "output_type": "execute_result"
    },
    {
     "data": {
      "image/png": "[encoded data removed]",
      "text/plain": [
       "<Figure size 432x288 with 1 Axes>"
      ]
     },
     "metadata": {
      "needs_background": "light"
     },
     "output_type": "display_data"
    }
   ],
   "source": [
    "sns.boxplot(x='Skor Belanja (1-100)',data=df2)"
   ]
  },
  {
   "cell_type": "code",
   "execution_count": 7,
   "metadata": {},
   "outputs": [
    {
     "data": {
      "text/html": [
       "<div>\n",
       "<style scoped>\n",
       "    .dataframe tbody tr th:only-of-type {\n",
       "        vertical-align: middle;\n",
       "    }\n",
       "\n",
       "    .dataframe tbody tr th {\n",
       "        vertical-align: top;\n",
       "    }\n",
       "\n",
       "    .dataframe thead th {\n",
       "        text-align: right;\n",
       "    }\n",
       "</style>\n",
       "<table border=\"1\" class=\"dataframe\">\n",
       "  <thead>\n",
       "    <tr style=\"text-align: right;\">\n",
       "      <th></th>\n",
       "      <th>Umur</th>\n",
       "      <th>Skor Belanja (1-100)</th>\n",
       "    </tr>\n",
       "  </thead>\n",
       "  <tbody>\n",
       "    <tr>\n",
       "      <th>0</th>\n",
       "      <td>19.0</td>\n",
       "      <td>39.0</td>\n",
       "    </tr>\n",
       "    <tr>\n",
       "      <th>1</th>\n",
       "      <td>21.0</td>\n",
       "      <td>81.0</td>\n",
       "    </tr>\n",
       "    <tr>\n",
       "      <th>2</th>\n",
       "      <td>20.0</td>\n",
       "      <td>6.0</td>\n",
       "    </tr>\n",
       "    <tr>\n",
       "      <th>3</th>\n",
       "      <td>23.0</td>\n",
       "      <td>77.0</td>\n",
       "    </tr>\n",
       "    <tr>\n",
       "      <th>4</th>\n",
       "      <td>31.0</td>\n",
       "      <td>40.0</td>\n",
       "    </tr>\n",
       "    <tr>\n",
       "      <th>...</th>\n",
       "      <td>...</td>\n",
       "      <td>...</td>\n",
       "    </tr>\n",
       "    <tr>\n",
       "      <th>244</th>\n",
       "      <td>27.0</td>\n",
       "      <td>69.0</td>\n",
       "    </tr>\n",
       "    <tr>\n",
       "      <th>245</th>\n",
       "      <td>59.0</td>\n",
       "      <td>14.0</td>\n",
       "    </tr>\n",
       "    <tr>\n",
       "      <th>246</th>\n",
       "      <td>35.0</td>\n",
       "      <td>90.0</td>\n",
       "    </tr>\n",
       "    <tr>\n",
       "      <th>247</th>\n",
       "      <td>37.0</td>\n",
       "      <td>32.0</td>\n",
       "    </tr>\n",
       "    <tr>\n",
       "      <th>248</th>\n",
       "      <td>32.0</td>\n",
       "      <td>86.0</td>\n",
       "    </tr>\n",
       "  </tbody>\n",
       "</table>\n",
       "<p>246 rows × 2 columns</p>\n",
       "</div>"
      ],
      "text/plain": [
       "     Umur  Skor Belanja (1-100)\n",
       "0    19.0                  39.0\n",
       "1    21.0                  81.0\n",
       "2    20.0                   6.0\n",
       "3    23.0                  77.0\n",
       "4    31.0                  40.0\n",
       "..    ...                   ...\n",
       "244  27.0                  69.0\n",
       "245  59.0                  14.0\n",
       "246  35.0                  90.0\n",
       "247  37.0                  32.0\n",
       "248  32.0                  86.0\n",
       "\n",
       "[246 rows x 2 columns]"
      ]
     },
     "execution_count": 7,
     "metadata": {},
     "output_type": "execute_result"
    }
   ],
   "source": [
    "from sklearn.preprocessing import StandardScaler\n",
    "df3=df2[['Umur','Skor Belanja (1-100)']]\n",
    "df3"
   ]
  },
  {
   "cell_type": "code",
   "execution_count": 8,
   "metadata": {},
   "outputs": [
    {
     "data": {
      "text/plain": [
       "array([[-1.45540807e+00, -3.96862497e-01],\n",
       "       [-1.30503831e+00,  1.12123573e+00],\n",
       "       [-1.38022319e+00, -1.58965396e+00],\n",
       "       [-1.15466856e+00,  9.76654949e-01],\n",
       "       [-5.53189542e-01, -3.60717301e-01],\n",
       "       [-1.22985343e+00,  9.40509753e-01],\n",
       "       [-2.52450034e-01, -1.58965396e+00],\n",
       "       [-1.15466856e+00,  1.59112328e+00],\n",
       "       [ 1.92791140e+00, -1.69808955e+00],\n",
       "       [-6.28374419e-01,  7.95928969e-01],\n",
       "       [ 2.15346603e+00, -1.30049240e+00],\n",
       "       [-2.52450034e-01,  1.77184926e+00],\n",
       "       [ 1.47680214e+00, -1.26434720e+00],\n",
       "       [-1.07948368e+00,  9.76654949e-01],\n",
       "       [-1.02080280e-01, -1.33663759e+00],\n",
       "       [-1.22985343e+00,  1.04894534e+00],\n",
       "       [-1.38022319e+00,  5.79057793e-01],\n",
       "       [ 1.02569287e+00, -7.58314456e-01],\n",
       "       [-2.52450034e-01,  1.73570406e+00],\n",
       "       [-2.52450034e-01, -5.41443281e-01],\n",
       "       [-1.00429880e+00,  8.32074165e-01],\n",
       "       [ 5.74583613e-01, -1.62579916e+00],\n",
       "       [-5.53189542e-01,  8.32074165e-01],\n",
       "       [ 1.17606263e+00, -1.30049240e+00],\n",
       "       [-7.03559296e-01,  1.15738093e+00],\n",
       "       [ 4.99398736e-01, -6.49878868e-01],\n",
       "       [-2.52450034e-01,  3.98331814e-01],\n",
       "       [ 1.23474351e-01, -6.86024064e-01],\n",
       "       [-1.15466856e+00,  1.33810691e+00],\n",
       "       [ 1.62717189e+00, -1.66194435e+00],\n",
       "       [-1.30503831e+00,  8.32074165e-01],\n",
       "       [ 1.10087775e+00, -1.66194435e+00],\n",
       "       [-1.53059294e+00,  1.51883289e+00],\n",
       "       [ 8.00138243e-01, -1.30049240e+00],\n",
       "       [-1.30503831e+00,  1.12123573e+00],\n",
       "       [ 2.73844105e-01, -1.19205681e+00],\n",
       "       [-6.28374419e-01,  8.32074165e-01],\n",
       "       [-1.77265157e-01, -8.66750044e-01],\n",
       "       [-1.38022319e+00,  9.04364557e-01],\n",
       "       [ 2.00309627e+00, -5.41443281e-01],\n",
       "       [-1.07948368e+00,  1.51883289e+00],\n",
       "       [ 7.24953366e-01, -5.05298085e-01],\n",
       "       [-5.53189542e-01,  3.98331814e-01],\n",
       "       [ 8.00138243e-01, -7.94459652e-01],\n",
       "       [-1.07948368e+00,  5.42912597e-01],\n",
       "       [ 8.75323120e-01,  1.81460638e-01],\n",
       "       [-8.53929050e-01, -1.07700929e-01],\n",
       "       [-7.03559296e-01, -2.88426909e-01],\n",
       "       [-5.53189542e-01, -2.88426909e-01],\n",
       "       [ 8.00138243e-01,  7.30250503e-02],\n",
       "       [-4.02819788e-01,  3.62186618e-01],\n",
       "       [-5.53189542e-01,  1.45315442e-01],\n",
       "       [ 1.55198701e+00,  3.62186618e-01],\n",
       "       [ 8.75323120e-01, -1.79991321e-01],\n",
       "       [ 6.49768489e-01, -3.24572105e-01],\n",
       "       [ 9.50507997e-01,  7.34658454e-04],\n",
       "       [ 2.30383578e+00, -1.43846125e-01],\n",
       "       [-8.53929050e-01,  3.68798544e-02],\n",
       "       [ 1.10087775e+00, -1.43846125e-01],\n",
       "       [ 2.37902066e+00,  2.17605834e-01],\n",
       "       [-1.45540807e+00,  2.17605834e-01],\n",
       "       [ 2.15346603e+00,  7.30250503e-02],\n",
       "       [ 1.17606263e+00,  3.26041422e-01],\n",
       "       [ 1.85272652e+00,  3.68798544e-02],\n",
       "       [-1.53059294e+00,  3.26041422e-01],\n",
       "       [ 3.49028982e-01,  7.34658454e-04],\n",
       "       [ 2.22865091e+00, -7.15557334e-02],\n",
       "       [-1.45540807e+00,  3.26041422e-01],\n",
       "       [-4.78004665e-01, -1.07700929e-01],\n",
       "       [ 2.37902066e+00,  1.81460638e-01],\n",
       "       [ 6.49768489e-01, -2.88426909e-01],\n",
       "       [ 1.62717189e+00, -3.54105375e-02],\n",
       "       [ 1.62717189e+00,  2.17605834e-01],\n",
       "       [ 1.55198701e+00, -1.07700929e-01],\n",
       "       [-9.29113927e-01,  1.45315442e-01],\n",
       "       [ 4.99398736e-01,  1.09170246e-01],\n",
       "       [ 1.23474351e-01, -7.15557334e-02],\n",
       "       [-1.15466856e+00,  7.30250503e-02],\n",
       "       [ 8.00138243e-01, -2.88426909e-01],\n",
       "       [ 1.40161726e+00,  3.68798544e-02],\n",
       "       [-2.68954031e-02,  1.81460638e-01],\n",
       "       [ 2.15346603e+00, -3.24572105e-01],\n",
       "       [ 5.74583613e-01, -2.16136517e-01],\n",
       "       [-1.30503831e+00,  2.53751030e-01],\n",
       "       [ 7.24953366e-01, -1.43846125e-01],\n",
       "       [ 1.25124751e+00,  2.89896226e-01],\n",
       "       [-1.22985343e+00,  1.81460638e-01],\n",
       "       [-3.27634911e-01,  3.62186618e-01],\n",
       "       [ 8.75323120e-01, -1.43846125e-01],\n",
       "       [ 2.22865091e+00,  1.81460638e-01],\n",
       "       [-1.53059294e+00, -3.24572105e-01],\n",
       "       [ 7.24953366e-01, -3.54105375e-02],\n",
       "       [ 1.23474351e-01, -3.60717301e-01],\n",
       "       [-4.78004665e-01, -3.60717301e-01],\n",
       "       [-1.07948368e+00,  7.30250503e-02],\n",
       "       [ 6.49768489e-01, -1.07700929e-01],\n",
       "       [-8.53929050e-01,  7.34658454e-04],\n",
       "       [ 7.24953366e-01, -2.88426909e-01],\n",
       "       [-1.38022319e+00, -3.54105375e-02],\n",
       "       [-1.15466856e+00, -3.24572105e-01],\n",
       "       [ 8.00138243e-01, -7.15557334e-02],\n",
       "       [ 2.15346603e+00,  3.26041422e-01],\n",
       "       [-9.29113927e-01,  1.81460638e-01],\n",
       "       [ 8.00138243e-01,  2.17605834e-01],\n",
       "       [-1.30503831e+00, -2.88426909e-01],\n",
       "       [ 2.07828115e+00,  7.34658454e-04],\n",
       "       [ 1.17606263e+00, -1.43846125e-01],\n",
       "       [ 2.22865091e+00, -2.52281713e-01],\n",
       "       [ 2.07828115e+00, -7.15557334e-02],\n",
       "       [ 2.00309627e+00,  7.30250503e-02],\n",
       "       [-1.45540807e+00,  1.45315442e-01],\n",
       "       [-2.68954031e-02, -2.88426909e-01],\n",
       "       [-1.45540807e+00, -1.43846125e-01],\n",
       "       [-1.53059294e+00, -7.15557334e-02],\n",
       "       [-1.45540807e+00,  7.34658454e-04],\n",
       "       [ 1.85272652e+00, -2.52281713e-01],\n",
       "       [ 8.00138243e-01, -2.52281713e-01],\n",
       "       [ 9.50507997e-01, -2.52281713e-01],\n",
       "       [ 8.75323120e-01,  2.53751030e-01],\n",
       "       [-8.53929050e-01,  2.17605834e-01],\n",
       "       [-2.68954031e-02, -3.60717301e-01],\n",
       "       [ 1.23474351e-01,  2.89896226e-01],\n",
       "       [ 4.82894738e-02,  1.48268769e+00],\n",
       "       [-1.15466856e+00, -7.58314456e-01],\n",
       "       [-5.53189542e-01,  9.76654949e-01],\n",
       "       [ 3.49028982e-01, -5.41443281e-01],\n",
       "       [ 1.23474351e-01,  1.62726848e+00],\n",
       "       [ 1.55198701e+00, -1.40892798e+00],\n",
       "       [-2.68954031e-02,  9.04364557e-01],\n",
       "       [ 6.49768489e-01, -1.48121837e+00],\n",
       "       [ 4.82894738e-02,  9.04364557e-01],\n",
       "       [-1.00429880e+00, -5.77588476e-01],\n",
       "       [-5.53189542e-01,  7.59783773e-01],\n",
       "       [-1.38022319e+00, -1.62579916e+00],\n",
       "       [-7.03559296e-01,  1.37425210e+00],\n",
       "       [ 4.24213859e-01, -1.55350877e+00],\n",
       "       [-4.78004665e-01,  8.32074165e-01],\n",
       "       [-1.45540807e+00, -1.44507318e+00],\n",
       "       [-2.52450034e-01,  7.95928969e-01],\n",
       "       [ 1.40161726e+00, -1.62579916e+00],\n",
       "       [-4.78004665e-01,  1.55497808e+00],\n",
       "       [-7.78744173e-01, -3.60717301e-01],\n",
       "       [-4.78004665e-01,  1.33810691e+00],\n",
       "       [-1.00429880e+00, -1.37278279e+00],\n",
       "       [-7.78744173e-01,  1.69955887e+00],\n",
       "       [ 7.24953366e-01, -5.05298085e-01],\n",
       "       [-4.78004665e-01,  8.68219361e-01],\n",
       "       [-3.27634911e-01, -1.01133083e+00],\n",
       "       [-3.27634911e-01,  1.44654250e+00],\n",
       "       [ 3.49028982e-01, -1.19205681e+00],\n",
       "       [ 4.82894738e-02,  1.37425210e+00],\n",
       "       [ 4.24213859e-01, -1.08362122e+00],\n",
       "       [-2.68954031e-02,  9.40509753e-01],\n",
       "       [ 6.49768489e-01, -1.22820200e+00],\n",
       "       [-8.53929050e-01,  1.41039730e+00],\n",
       "       [-1.02080280e-01, -1.66194435e+00],\n",
       "       [-6.28374419e-01,  1.01280014e+00],\n",
       "       [-3.27634911e-01, -1.62579916e+00],\n",
       "       [-6.28374419e-01,  8.32074165e-01],\n",
       "       [ 1.32643238e+00, -5.41443281e-01],\n",
       "       [-7.03559296e-01,  1.19352612e+00],\n",
       "       [-1.45540807e+00, -1.62579916e+00],\n",
       "       [-5.53189542e-01,  1.55497808e+00],\n",
       "       [ 8.75323120e-01, -8.66750044e-01],\n",
       "       [-1.77265157e-01,  9.04364557e-01],\n",
       "       [ 2.73844105e-01, -1.08362122e+00],\n",
       "       [-4.02819788e-01,  1.62726848e+00],\n",
       "       [-1.77265157e-01, -8.30604848e-01],\n",
       "       [-4.78004665e-01,  4.70622206e-01],\n",
       "       [ 1.23474351e-01, -1.33663759e+00],\n",
       "       [-7.78744173e-01,  9.04364557e-01],\n",
       "       [-1.77265157e-01, -1.44507318e+00],\n",
       "       [-1.77265157e-01,  1.51883289e+00],\n",
       "       [ 1.02569287e+00, -1.33663759e+00],\n",
       "       [-6.28374419e-01,  1.30196171e+00],\n",
       "       [ 1.47680214e+00, -1.26434720e+00],\n",
       "       [-8.53929050e-01, -1.62579916e+00],\n",
       "       [ 1.55198701e+00, -1.30049240e+00],\n",
       "       [-2.52450034e-01,  1.44654250e+00],\n",
       "       [-1.02080280e-01, -6.49878868e-01],\n",
       "       [-4.78004665e-01,  1.30196171e+00],\n",
       "       [ 5.74583613e-01, -1.26434720e+00],\n",
       "       [-7.03559296e-01,  1.37425210e+00],\n",
       "       [ 1.98659228e-01, -3.96862497e-01],\n",
       "       [-6.28374419e-01,  1.69955887e+00],\n",
       "       [ 1.17606263e+00, -9.39040436e-01],\n",
       "       [-7.78744173e-01,  6.51348185e-01],\n",
       "       [ 1.98659228e-01, -1.19205681e+00],\n",
       "       [-1.77265157e-01,  1.26581652e+00],\n",
       "       [-3.27634911e-01, -9.75185632e-01],\n",
       "       [-4.78004665e-01,  6.87493381e-01],\n",
       "       [-4.02819788e-01, -1.51736357e+00],\n",
       "       [-2.68954031e-02,  1.48268769e+00],\n",
       "       [ 6.49768489e-01, -1.22820200e+00],\n",
       "       [-2.52450034e-01,  1.04894534e+00],\n",
       "       [ 4.99398736e-01, -7.94459652e-01],\n",
       "       [-4.78004665e-01,  8.68219361e-01],\n",
       "       [-5.53189542e-01,  7.59783773e-01],\n",
       "       [-1.38022319e+00, -1.62579916e+00],\n",
       "       [-7.03559296e-01,  1.37425210e+00],\n",
       "       [ 4.24213859e-01, -1.55350877e+00],\n",
       "       [-4.78004665e-01,  8.32074165e-01],\n",
       "       [-1.45540807e+00, -1.44507318e+00],\n",
       "       [-2.52450034e-01,  7.95928969e-01],\n",
       "       [ 1.40161726e+00, -1.62579916e+00],\n",
       "       [-4.78004665e-01,  1.55497808e+00],\n",
       "       [-4.78004665e-01, -3.60717301e-01],\n",
       "       [-4.78004665e-01,  1.33810691e+00],\n",
       "       [-1.00429880e+00, -1.37278279e+00],\n",
       "       [-7.78744173e-01,  1.69955887e+00],\n",
       "       [ 7.24953366e-01, -5.05298085e-01],\n",
       "       [-4.78004665e-01,  8.68219361e-01],\n",
       "       [-3.27634911e-01, -1.01133083e+00],\n",
       "       [-3.27634911e-01,  1.44654250e+00],\n",
       "       [ 3.49028982e-01, -1.19205681e+00],\n",
       "       [ 4.82894738e-02,  1.37425210e+00],\n",
       "       [ 4.24213859e-01, -1.08362122e+00],\n",
       "       [-2.68954031e-02,  9.40509753e-01],\n",
       "       [ 6.49768489e-01, -1.22820200e+00],\n",
       "       [-8.53929050e-01,  1.41039730e+00],\n",
       "       [-1.02080280e-01, -1.62579916e+00],\n",
       "       [-6.28374419e-01,  1.01280014e+00],\n",
       "       [-6.28374419e-01, -1.66194435e+00],\n",
       "       [-6.28374419e-01,  8.32074165e-01],\n",
       "       [ 1.32643238e+00, -5.41443281e-01],\n",
       "       [-7.03559296e-01,  1.19352612e+00],\n",
       "       [-1.45540807e+00, -1.62579916e+00],\n",
       "       [-5.53189542e-01,  1.55497808e+00],\n",
       "       [ 8.75323120e-01, -8.66750044e-01],\n",
       "       [-1.77265157e-01,  9.04364557e-01],\n",
       "       [ 2.73844105e-01, -1.08362122e+00],\n",
       "       [-4.02819788e-01,  1.62726848e+00],\n",
       "       [-1.77265157e-01, -8.30604848e-01],\n",
       "       [-4.78004665e-01,  4.70622206e-01],\n",
       "       [ 1.23474351e-01, -1.33663759e+00],\n",
       "       [-7.78744173e-01,  9.04364557e-01],\n",
       "       [-1.77265157e-01, -1.44507318e+00],\n",
       "       [-1.77265157e-01,  1.51883289e+00],\n",
       "       [ 1.02569287e+00, -1.33663759e+00],\n",
       "       [-6.28374419e-01,  1.30196171e+00],\n",
       "       [ 1.47680214e+00, -1.26434720e+00],\n",
       "       [-8.53929050e-01,  6.87493381e-01],\n",
       "       [ 1.55198701e+00, -1.30049240e+00],\n",
       "       [-2.52450034e-01,  1.44654250e+00],\n",
       "       [-1.02080280e-01, -6.49878868e-01],\n",
       "       [-4.78004665e-01,  1.30196171e+00]])"
      ]
     },
     "execution_count": 8,
     "metadata": {},
     "output_type": "execute_result"
    }
   ],
   "source": [
    "sc = StandardScaler()\n",
    "df_std = sc.fit_transform(df3)\n",
    "df_std"
   ]
  },
  {
   "cell_type": "code",
   "execution_count": 9,
   "metadata": {},
   "outputs": [
    {
     "data": {
      "text/plain": [
       "KMeans(n_clusters=2, random_state=42)"
      ]
     },
     "execution_count": 9,
     "metadata": {},
     "output_type": "execute_result"
    }
   ],
   "source": [
    "from sklearn.cluster import KMeans\n",
    "kmeans1 = KMeans(n_clusters = 2, random_state=42).fit(df_std)\n",
    "labels1 = kmeans1.labels_\n",
    "labels1\n",
    "kmeans1"
   ]
  },
  {
   "cell_type": "code",
   "execution_count": 10,
   "metadata": {},
   "outputs": [
    {
     "data": {
      "text/html": [
       "<div>\n",
       "<style scoped>\n",
       "    .dataframe tbody tr th:only-of-type {\n",
       "        vertical-align: middle;\n",
       "    }\n",
       "\n",
       "    .dataframe tbody tr th {\n",
       "        vertical-align: top;\n",
       "    }\n",
       "\n",
       "    .dataframe thead th {\n",
       "        text-align: right;\n",
       "    }\n",
       "</style>\n",
       "<table border=\"1\" class=\"dataframe\">\n",
       "  <thead>\n",
       "    <tr style=\"text-align: right;\">\n",
       "      <th></th>\n",
       "      <th>Umur</th>\n",
       "      <th>Skor Belanja (1-100)</th>\n",
       "      <th>label1_kmeans</th>\n",
       "    </tr>\n",
       "  </thead>\n",
       "  <tbody>\n",
       "    <tr>\n",
       "      <th>0</th>\n",
       "      <td>-1.455408</td>\n",
       "      <td>-0.396862</td>\n",
       "      <td>0</td>\n",
       "    </tr>\n",
       "    <tr>\n",
       "      <th>1</th>\n",
       "      <td>-1.305038</td>\n",
       "      <td>1.121236</td>\n",
       "      <td>0</td>\n",
       "    </tr>\n",
       "    <tr>\n",
       "      <th>2</th>\n",
       "      <td>-1.380223</td>\n",
       "      <td>-1.589654</td>\n",
       "      <td>1</td>\n",
       "    </tr>\n",
       "    <tr>\n",
       "      <th>3</th>\n",
       "      <td>-1.154669</td>\n",
       "      <td>0.976655</td>\n",
       "      <td>0</td>\n",
       "    </tr>\n",
       "    <tr>\n",
       "      <th>4</th>\n",
       "      <td>-0.553190</td>\n",
       "      <td>-0.360717</td>\n",
       "      <td>0</td>\n",
       "    </tr>\n",
       "    <tr>\n",
       "      <th>...</th>\n",
       "      <td>...</td>\n",
       "      <td>...</td>\n",
       "      <td>...</td>\n",
       "    </tr>\n",
       "    <tr>\n",
       "      <th>241</th>\n",
       "      <td>-0.853929</td>\n",
       "      <td>0.687493</td>\n",
       "      <td>0</td>\n",
       "    </tr>\n",
       "    <tr>\n",
       "      <th>242</th>\n",
       "      <td>1.551987</td>\n",
       "      <td>-1.300492</td>\n",
       "      <td>1</td>\n",
       "    </tr>\n",
       "    <tr>\n",
       "      <th>243</th>\n",
       "      <td>-0.252450</td>\n",
       "      <td>1.446542</td>\n",
       "      <td>0</td>\n",
       "    </tr>\n",
       "    <tr>\n",
       "      <th>244</th>\n",
       "      <td>-0.102080</td>\n",
       "      <td>-0.649879</td>\n",
       "      <td>1</td>\n",
       "    </tr>\n",
       "    <tr>\n",
       "      <th>245</th>\n",
       "      <td>-0.478005</td>\n",
       "      <td>1.301962</td>\n",
       "      <td>0</td>\n",
       "    </tr>\n",
       "  </tbody>\n",
       "</table>\n",
       "<p>246 rows × 3 columns</p>\n",
       "</div>"
      ],
      "text/plain": [
       "         Umur  Skor Belanja (1-100)  label1_kmeans\n",
       "0   -1.455408             -0.396862              0\n",
       "1   -1.305038              1.121236              0\n",
       "2   -1.380223             -1.589654              1\n",
       "3   -1.154669              0.976655              0\n",
       "4   -0.553190             -0.360717              0\n",
       "..        ...                   ...            ...\n",
       "241 -0.853929              0.687493              0\n",
       "242  1.551987             -1.300492              1\n",
       "243 -0.252450              1.446542              0\n",
       "244 -0.102080             -0.649879              1\n",
       "245 -0.478005              1.301962              0\n",
       "\n",
       "[246 rows x 3 columns]"
      ]
     },
     "execution_count": 10,
     "metadata": {},
     "output_type": "execute_result"
    }
   ],
   "source": [
    "new_df = pd.DataFrame(data=df_std, columns=['Umur', 'Skor Belanja (1-100)'])\n",
    "new_df['label1_kmeans'] = labels1\n",
    "new_df"
   ]
  },
  {
   "cell_type": "code",
   "execution_count": 11,
   "metadata": {},
   "outputs": [
    {
     "data": {
      "image/png": "[encoded data removed]",
      "text/plain": [
       "<Figure size 864x576 with 1 Axes>"
      ]
     },
     "metadata": {
      "needs_background": "light"
     },
     "output_type": "display_data"
    }
   ],
   "source": [
    "import matplotlib.pyplot as plt\n",
    "plt.figure(figsize=(12,8))\n",
    "\n",
    "plt.scatter(new_df['Umur'][new_df.label1_kmeans == 0], new_df['Skor Belanja (1-100)'][new_df.label1_kmeans == 0], c='blue', s=100, edgecolor='green')\n",
    "plt.scatter(new_df['Umur'][new_df.label1_kmeans == 1], new_df['Skor Belanja (1-100)'][new_df.label1_kmeans == 1], c='red', s=100, edgecolor='green')\n",
    "\n",
    "plt.scatter(kmeans1.cluster_centers_[:, 0],kmeans1.cluster_centers_[:, 1], c='k', s=500 )\n",
    "\n",
    "plt.show()"
   ]
  },
  {
   "cell_type": "code",
   "execution_count": 12,
   "metadata": {},
   "outputs": [
    {
     "data": {
      "image/png": "[encoded data removed]",
      "text/plain": [
       "<Figure size 864x576 with 1 Axes>"
      ]
     },
     "metadata": {
      "needs_background": "light"
     },
     "output_type": "display_data"
    }
   ],
   "source": [
    "wcss = []\n",
    "for i in range(1,11):\n",
    "  kmeans = KMeans(n_clusters=i, init='k-means++', random_state= 42)\n",
    "  kmeans.fit(df_std)\n",
    "  wcss.append(kmeans.inertia_)\n",
    "plt.figure(figsize=(12,8))\n",
    "plt.plot(range(1,11), wcss)\n",
    "plt.title('The Elbow Method')\n",
    "plt.xlabel('number of cluster')\n",
    "plt.ylabel('WCSS')\n",
    "\n",
    "plt.show()"
   ]
  },
  {
   "cell_type": "code",
   "execution_count": 13,
   "metadata": {},
   "outputs": [
    {
     "data": {
      "text/plain": [
       "array([2, 0, 2, 0, 2, 0, 2, 0, 1, 0, 1, 0, 1, 0, 2, 0, 0, 1, 0, 2, 0, 2,\n",
       "       0, 1, 0, 1, 0, 2, 0, 1, 0, 1, 0, 1, 0, 2, 0, 2, 0, 1, 0, 1, 0, 1,\n",
       "       0, 1, 2, 2, 2, 1, 0, 0, 1, 1, 1, 1, 1, 0, 1, 1, 0, 1, 1, 1, 0, 1,\n",
       "       1, 0, 2, 1, 1, 1, 1, 1, 0, 1, 2, 0, 1, 1, 0, 1, 1, 0, 1, 1, 0, 0,\n",
       "       1, 1, 2, 1, 2, 2, 0, 1, 0, 1, 0, 2, 1, 1, 0, 1, 2, 1, 1, 1, 1, 1,\n",
       "       0, 2, 2, 0, 0, 1, 1, 1, 1, 0, 2, 0, 0, 2, 0, 2, 0, 1, 0, 1, 0, 2,\n",
       "       0, 2, 0, 2, 0, 2, 0, 1, 0, 2, 0, 2, 0, 1, 0, 2, 0, 2, 0, 2, 0, 1,\n",
       "       0, 2, 0, 2, 0, 1, 0, 2, 0, 1, 0, 2, 0, 2, 0, 2, 0, 2, 0, 1, 0, 1,\n",
       "       2, 1, 0, 2, 0, 1, 0, 2, 0, 1, 0, 2, 0, 2, 0, 2, 0, 1, 0, 1, 0, 0,\n",
       "       2, 0, 2, 0, 2, 0, 1, 0, 2, 0, 2, 0, 1, 0, 2, 0, 2, 0, 2, 0, 1, 0,\n",
       "       2, 0, 2, 0, 1, 0, 2, 0, 1, 0, 2, 0, 2, 0, 2, 0, 2, 0, 1, 0, 1, 0,\n",
       "       1, 0, 2, 0])"
      ]
     },
     "execution_count": 13,
     "metadata": {},
     "output_type": "execute_result"
    }
   ],
   "source": [
    "kmeans2 = KMeans(n_clusters = 3, init='k-means++', random_state=42).fit(df_std)\n",
    "labels2 = kmeans2.labels_\n",
    "labels2"
   ]
  },
  {
   "cell_type": "code",
   "execution_count": 14,
   "metadata": {},
   "outputs": [
    {
     "data": {
      "text/html": [
       "<div>\n",
       "<style scoped>\n",
       "    .dataframe tbody tr th:only-of-type {\n",
       "        vertical-align: middle;\n",
       "    }\n",
       "\n",
       "    .dataframe tbody tr th {\n",
       "        vertical-align: top;\n",
       "    }\n",
       "\n",
       "    .dataframe thead th {\n",
       "        text-align: right;\n",
       "    }\n",
       "</style>\n",
       "<table border=\"1\" class=\"dataframe\">\n",
       "  <thead>\n",
       "    <tr style=\"text-align: right;\">\n",
       "      <th></th>\n",
       "      <th>Umur</th>\n",
       "      <th>Skor Belanja (1-100)</th>\n",
       "      <th>label1_kmeans</th>\n",
       "      <th>label2_kmeans</th>\n",
       "    </tr>\n",
       "  </thead>\n",
       "  <tbody>\n",
       "    <tr>\n",
       "      <th>0</th>\n",
       "      <td>-1.455408</td>\n",
       "      <td>-0.396862</td>\n",
       "      <td>0</td>\n",
       "      <td>2</td>\n",
       "    </tr>\n",
       "    <tr>\n",
       "      <th>1</th>\n",
       "      <td>-1.305038</td>\n",
       "      <td>1.121236</td>\n",
       "      <td>0</td>\n",
       "      <td>0</td>\n",
       "    </tr>\n",
       "    <tr>\n",
       "      <th>2</th>\n",
       "      <td>-1.380223</td>\n",
       "      <td>-1.589654</td>\n",
       "      <td>1</td>\n",
       "      <td>2</td>\n",
       "    </tr>\n",
       "    <tr>\n",
       "      <th>3</th>\n",
       "      <td>-1.154669</td>\n",
       "      <td>0.976655</td>\n",
       "      <td>0</td>\n",
       "      <td>0</td>\n",
       "    </tr>\n",
       "    <tr>\n",
       "      <th>4</th>\n",
       "      <td>-0.553190</td>\n",
       "      <td>-0.360717</td>\n",
       "      <td>0</td>\n",
       "      <td>2</td>\n",
       "    </tr>\n",
       "    <tr>\n",
       "      <th>...</th>\n",
       "      <td>...</td>\n",
       "      <td>...</td>\n",
       "      <td>...</td>\n",
       "      <td>...</td>\n",
       "    </tr>\n",
       "    <tr>\n",
       "      <th>241</th>\n",
       "      <td>-0.853929</td>\n",
       "      <td>0.687493</td>\n",
       "      <td>0</td>\n",
       "      <td>0</td>\n",
       "    </tr>\n",
       "    <tr>\n",
       "      <th>242</th>\n",
       "      <td>1.551987</td>\n",
       "      <td>-1.300492</td>\n",
       "      <td>1</td>\n",
       "      <td>1</td>\n",
       "    </tr>\n",
       "    <tr>\n",
       "      <th>243</th>\n",
       "      <td>-0.252450</td>\n",
       "      <td>1.446542</td>\n",
       "      <td>0</td>\n",
       "      <td>0</td>\n",
       "    </tr>\n",
       "    <tr>\n",
       "      <th>244</th>\n",
       "      <td>-0.102080</td>\n",
       "      <td>-0.649879</td>\n",
       "      <td>1</td>\n",
       "      <td>2</td>\n",
       "    </tr>\n",
       "    <tr>\n",
       "      <th>245</th>\n",
       "      <td>-0.478005</td>\n",
       "      <td>1.301962</td>\n",
       "      <td>0</td>\n",
       "      <td>0</td>\n",
       "    </tr>\n",
       "  </tbody>\n",
       "</table>\n",
       "<p>246 rows × 4 columns</p>\n",
       "</div>"
      ],
      "text/plain": [
       "         Umur  Skor Belanja (1-100)  label1_kmeans  label2_kmeans\n",
       "0   -1.455408             -0.396862              0              2\n",
       "1   -1.305038              1.121236              0              0\n",
       "2   -1.380223             -1.589654              1              2\n",
       "3   -1.154669              0.976655              0              0\n",
       "4   -0.553190             -0.360717              0              2\n",
       "..        ...                   ...            ...            ...\n",
       "241 -0.853929              0.687493              0              0\n",
       "242  1.551987             -1.300492              1              1\n",
       "243 -0.252450              1.446542              0              0\n",
       "244 -0.102080             -0.649879              1              2\n",
       "245 -0.478005              1.301962              0              0\n",
       "\n",
       "[246 rows x 4 columns]"
      ]
     },
     "execution_count": 14,
     "metadata": {},
     "output_type": "execute_result"
    }
   ],
   "source": [
    "new_df['label2_kmeans'] = labels2\n",
    "new_df"
   ]
  },
  {
   "cell_type": "code",
   "execution_count": 15,
   "metadata": {},
   "outputs": [
    {
     "data": {
      "image/png": "[encoded data removed]",
      "text/plain": [
       "<Figure size 864x576 with 1 Axes>"
      ]
     },
     "metadata": {
      "needs_background": "light"
     },
     "output_type": "display_data"
    }
   ],
   "source": [
    "plt.figure(figsize=(12,8))\n",
    "plt.scatter(new_df['Umur'][new_df.label2_kmeans == 0], new_df['Skor Belanja (1-100)'][new_df.label2_kmeans == 0], c='blue', s=100, edgecolor='green')\n",
    "plt.scatter(new_df['Umur'][new_df.label2_kmeans == 1], new_df['Skor Belanja (1-100)'][new_df.label2_kmeans == 1], c='red', s=100, edgecolor='green')\n",
    "plt.scatter(new_df['Umur'][new_df.label2_kmeans == 2], new_df['Skor Belanja (1-100)'][new_df.label2_kmeans == 2], c='green', s=100, edgecolor='green')\n",
    "plt.scatter(kmeans2.cluster_centers_[:, 0],kmeans2.cluster_centers_[:, 1], c='k', s=500 )\n",
    "plt.xlabel('Umur')\n",
    "plt.ylabel('Skor Belanja (1-100)')\n",
    "plt.show()"
   ]
  },
  {
   "cell_type": "code",
   "execution_count": 16,
   "metadata": {},
   "outputs": [
    {
     "name": "stdout",
     "output_type": "stream",
     "text": [
      "0.48547668843696046\n",
      "0.46322118979522214\n"
     ]
    }
   ],
   "source": [
    "from sklearn.metrics import silhouette_score\n",
    "print(silhouette_score(df_std, labels=labels1))\n",
    "print(silhouette_score(df_std, labels=labels2))"
   ]
  },
  {
   "cell_type": "markdown",
   "metadata": {
    "id": "Fo1GIiVdFP4j"
   },
   "source": [
    "Expected output:\n",
    "\n",
    "n_cluster =2\n",
    "\n",
    "![](https://drive.google.com/uc?id=1RHedPeGR48w-cWl7WWkIsHTSB2DRgynO)\n",
    "\n",
    "\n",
    "Elbow graph\n",
    "\n",
    "![](https://drive.google.com/uc?id=1S3_uvQWzJCi8YwSBbpu2imKbUBZ3JdmV)\n",
    "\n",
    "n_cluster =3\n",
    "\n",
    "![](https://drive.google.com/uc?id=1EVMDQgPpC8vYpfxilyiJMRDNIr-JXULd)"
   ]
  },
  {
   "cell_type": "markdown",
   "metadata": {
    "id": "5xpMIoEcm8MM"
   },
   "source": [
    "\n",
    "\n",
    "---\n",
    "\n",
    "\n",
    "\n",
    "---\n",
    "\n",
    "\n",
    "\n",
    "---\n",
    "\n"
   ]
  },
  {
   "cell_type": "markdown",
   "metadata": {
    "id": "pt-NFlqTm-Og"
   },
   "source": [
    "# Soal 3. Analisa Data Hasil Clustering\n",
    "\n",
    "Dari hasil klustering diatas, buatlah sebuah analisa segmentasi pelanggan untuk kemajuan supermarket. "
   ]
  },
  {
   "cell_type": "markdown",
   "metadata": {
    "id": "zNPDstJynpva"
   },
   "source": [
    "Jawab disini:\n",
    "Dari Scatter plot dengan 3 cluster, dapat dilihat bahwa:\n",
    "-cluster berwarna hijau, yaitu pelanggan dengan umur lebih muda, sebagian cenderung memberikan skor belanja yang rendah.\n",
    "-cluster berwarna biru, yaitu pelanggan dengan umur lebih muda sebagian juga memberikan skor belanja yang sangat tinggi.\n",
    "-cluster berwarna merah, yaitu pelanggan dengan umur lebih tua, secara keseluruhan memberikan skor belanja sangat rendah.\n",
    "\n",
    "Kenapa hal ini terjadi? ada beberapa faktor yang mungkin perlu diperhatikan:\n",
    "-pelanggan dengan usia lebih tua memiliki kesulitan mencari barang belanja yang ingin dicari, penyebabnya bisa jadi letak barang khusus usia tua tidak strategis, tidak adanya bangku duduk atau rest area, kemudian letak barang yang ingin dibeli terlalu tinggi, kurangnya staff jaga sebagai penunjuk letak barang, atau bisa juga tempat yang terlalu luas sehingga mereka mengeluh akan jauhnya letak barang tersebut, dan beberapa hal lainnya.\n",
    "\n",
    "-sebagian pelanggan dengan usia muda mungkin memiliki masalah terhadap pelayanan, seperti kurang ramahnya staff terhadap pelanggan yang datang dan bertanya. Hal lainnya yaitu tidak adanya rest area atau tempat duduk untuk mereka menikmati barang yang dibeli, seperti tempat duduk di pelataran toko.\n",
    "\n",
    "Saran yang dapat diberikan untuk supermarket ini adalah:\n",
    "1. Sediakan rest area atau temapt duduk untuk pelanggan\n",
    "2. Perbanyak staff sehingga pelanggan tidak kesusahan mencari barang yang diinginkan\n",
    "3. Tempatkan barang-barang kebutuhan primer di tempat yang strategis dan mudah ditemukan\n",
    "4. Selalu memberikan pelayanan terbaik terhadap semua pelanggan\n",
    "5. Adakan promo diskon beberapa minggu atau bulan sekali, guna menarik pelanggan lebih banyak lagi"
   ]
  }
 ],
 "metadata": {
  "colab": {
   "collapsed_sections": [],
   "name": "Tugas_Day_3(EDA).ipynb",
   "provenance": [],
   "toc_visible": true
  },
  "kernelspec": {
   "display_name": "Python 3",
   "language": "python",
   "name": "python3"
  },
  "language_info": {
   "codemirror_mode": {
    "name": "ipython",
    "version": 3
   },
   "file_extension": ".py",
   "mimetype": "text/x-python",
   "name": "python",
   "nbconvert_exporter": "python",
   "pygments_lexer": "ipython3",
   "version": "3.8.5"
  }
 },
 "nbformat": 4,
 "nbformat_minor": 4
}
