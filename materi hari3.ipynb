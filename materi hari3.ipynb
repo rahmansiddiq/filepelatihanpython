{
 "cells": [
  {
   "cell_type": "code",
   "execution_count": 1,
   "metadata": {},
   "outputs": [
    {
     "name": "stdout",
     "output_type": "stream",
     "text": [
      "Help on built-in function len in module builtins:\n",
      "\n",
      "len(obj, /)\n",
      "    Return the number of items in a container.\n",
      "\n",
      "None\n"
     ]
    }
   ],
   "source": [
    "print(help(len))"
   ]
  },
  {
   "cell_type": "code",
   "execution_count": 2,
   "metadata": {},
   "outputs": [],
   "source": [
    "def least_difference(a,b,c):\n",
    "    diff1=abs(a-b)\n",
    "    diff2=abs(b-c)\n",
    "    diff3-abs(a-c)\n",
    "    return min(diff1,diff2,diff3)"
   ]
  },
  {
   "cell_type": "code",
   "execution_count": 5,
   "metadata": {},
   "outputs": [
    {
     "name": "stdout",
     "output_type": "stream",
     "text": [
      "Hello, Colion\n",
      "None\n",
      "Hello, Colin\n",
      "None\n"
     ]
    }
   ],
   "source": [
    "def greet():\n",
    "    print('Hello, Colion')\n",
    "\n",
    "print(greet())\n",
    "def greet(who=\"Colin\"):\n",
    "    print(\"Hello,\",who)\n",
    "\n",
    "print(greet())"
   ]
  },
  {
   "cell_type": "code",
   "execution_count": 6,
   "metadata": {},
   "outputs": [
    {
     "name": "stdout",
     "output_type": "stream",
     "text": [
      "Hello, Fauzan\n",
      "None\n"
     ]
    }
   ],
   "source": [
    "print(greet(\"Fauzan\"))"
   ]
  },
  {
   "cell_type": "code",
   "execution_count": 7,
   "metadata": {},
   "outputs": [],
   "source": [
    "def fungsi_01(nama):\n",
    "    print(nama)"
   ]
  },
  {
   "cell_type": "code",
   "execution_count": 8,
   "metadata": {},
   "outputs": [
    {
     "name": "stdout",
     "output_type": "stream",
     "text": [
      "rudi\n"
     ]
    }
   ],
   "source": [
    "fungsi_01(nama='rudi')"
   ]
  },
  {
   "cell_type": "code",
   "execution_count": 9,
   "metadata": {},
   "outputs": [],
   "source": [
    "#arbitary parameter=saat kita tidak mengetahui berapa parameter yang ingin kita masukkan saat melakukan pembuatan fungsi\n",
    "#ada 2 jenis:\n",
    "#Args parameter, menggunakan satu tanda asterisk sebelum parameter. Parameter berbentuk tuple.\n",
    "#Kwargs parameter, menggunakan dua tanda asterisk sebelum parameter. Parameter berbentuk dictionary.\n"
   ]
  },
  {
   "cell_type": "code",
   "execution_count": 10,
   "metadata": {},
   "outputs": [],
   "source": [
    "#contoh fungsi args\n",
    "def fungsi_05(*nama):\n",
    "    for item in nama:\n",
    "        print(item)"
   ]
  },
  {
   "cell_type": "code",
   "execution_count": 11,
   "metadata": {},
   "outputs": [
    {
     "name": "stdout",
     "output_type": "stream",
     "text": [
      "rudi\n",
      "santi\n",
      "mirna\n"
     ]
    }
   ],
   "source": [
    "fungsi_05('rudi','santi','mirna')"
   ]
  },
  {
   "cell_type": "code",
   "execution_count": 12,
   "metadata": {},
   "outputs": [],
   "source": [
    "#contoh fungsi kwargs\n",
    "def fungsi_06(**nama):\n",
    "    for key, value in nama.items():\n",
    "        print(key,value)"
   ]
  },
  {
   "cell_type": "code",
   "execution_count": 13,
   "metadata": {},
   "outputs": [
    {
     "name": "stdout",
     "output_type": "stream",
     "text": [
      "nama rudi\n",
      "umur 18\n"
     ]
    }
   ],
   "source": [
    "fungsi_06(nama='rudi',umur='18')"
   ]
  },
  {
   "cell_type": "code",
   "execution_count": 14,
   "metadata": {},
   "outputs": [
    {
     "name": "stdout",
     "output_type": "stream",
     "text": [
      "4\n"
     ]
    }
   ],
   "source": [
    "#fungsi lambda=fungsi ini tidak terdefinisi artinya kita bisa melakukan operasi menggunakan fungsi lambda tanpa mendefinisikan terlebih dahulu fungsinya\n",
    "#persamaan umum fungsi lambda\n",
    "#lambda argument: kode/pernyataan\n",
    "#contoh\n",
    "kali_02=lambda x:x*2\n",
    "print(kali_02(2))"
   ]
  },
  {
   "cell_type": "code",
   "execution_count": 15,
   "metadata": {},
   "outputs": [
    {
     "name": "stdout",
     "output_type": "stream",
     "text": [
      "[3, 6, 9, 12]\n"
     ]
    }
   ],
   "source": [
    "#map=fungsi yang digunakan untuk mengaplikasikan suatu fungsi pada semua anggota array atau struktur data\n",
    "#contoh\n",
    "data=[1,2,3,4]\n",
    "def kali_3(nilai):\n",
    "    return nilai*3\n",
    "\n",
    "hasil=list(map(kali_3,data))\n",
    "print(hasil)\n"
   ]
  },
  {
   "cell_type": "code",
   "execution_count": 16,
   "metadata": {},
   "outputs": [
    {
     "name": "stdout",
     "output_type": "stream",
     "text": [
      "[3, 6, 9, 12]\n"
     ]
    }
   ],
   "source": [
    "#contoh pengaplikasian fungsi lambda pada fungsi map\n",
    "data=[1,2,3,4]\n",
    "hasil=list(map(lambda x:x*3,data))\n",
    "print(hasil)"
   ]
  },
  {
   "cell_type": "code",
   "execution_count": 17,
   "metadata": {},
   "outputs": [
    {
     "name": "stdout",
     "output_type": "stream",
     "text": [
      "HURUF KECIL\n"
     ]
    }
   ],
   "source": [
    "#method= suatu fungsi yang dimiliki oleh suatu object.\n",
    "#membuat objek string\n",
    "huruf_kecil='huruf kecil'\n",
    "#memanggil salah satu method string\n",
    "print(huruf_kecil.upper())"
   ]
  },
  {
   "cell_type": "code",
   "execution_count": 18,
   "metadata": {},
   "outputs": [
    {
     "name": "stdout",
     "output_type": "stream",
     "text": [
      "2\n"
     ]
    }
   ],
   "source": [
    "#mendefinisikan objek list\n",
    "keluarga_ucup=['mama','papa','ucup','adek ucup','kakak ucup']\n",
    "#memanggil method yang dimiliki oleh list\n",
    "print(keluarga_ucup.index('ucup'))"
   ]
  },
  {
   "cell_type": "code",
   "execution_count": 19,
   "metadata": {},
   "outputs": [
    {
     "name": "stdout",
     "output_type": "stream",
     "text": [
      "Circumtance: 2.701769682087222\n",
      "Area: 0.5808804816487527\n"
     ]
    }
   ],
   "source": [
    "#definition of radius\n",
    "r=0.43\n",
    "#import the math package\n",
    "import math\n",
    "pi=math.pi\n",
    "\n",
    "#calculate c\n",
    "C=2*pi*r\n",
    "\n",
    "#calculate a\n",
    "A=pi*r*r\n",
    "\n",
    "#build printout\n",
    "print(\"Circumtance: \"+str(C))\n",
    "print(\"Area: \"+str(A))"
   ]
  },
  {
   "cell_type": "code",
   "execution_count": null,
   "metadata": {},
   "outputs": [],
   "source": []
  }
 ],
 "metadata": {
  "kernelspec": {
   "display_name": "Python 3",
   "language": "python",
   "name": "python3"
  },
  "language_info": {
   "codemirror_mode": {
    "name": "ipython",
    "version": 3
   },
   "file_extension": ".py",
   "mimetype": "text/x-python",
   "name": "python",
   "nbconvert_exporter": "python",
   "pygments_lexer": "ipython3",
   "version": "3.8.5"
  }
 },
 "nbformat": 4,
 "nbformat_minor": 4
}
