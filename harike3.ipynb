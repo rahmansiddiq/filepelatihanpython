{
 "cells": [
  {
   "cell_type": "code",
   "execution_count": 3,
   "metadata": {},
   "outputs": [
    {
     "name": "stdout",
     "output_type": "stream",
     "text": [
      "lulus\n"
     ]
    }
   ],
   "source": [
    "#if=kita hanya ingin menguji satu pernyataan sebagai syarat jika kode kita ingin dijalankan.\n",
    "#contoh\n",
    "nilai=9\n",
    "if nilai>=8:\n",
    "    print('lulus')\n",
    "\n",
    "if nilai>10:\n",
    "    print('lulus')"
   ]
  },
  {
   "cell_type": "code",
   "execution_count": 6,
   "metadata": {},
   "outputs": [
    {
     "name": "stdout",
     "output_type": "stream",
     "text": [
      "tidak lulus\n"
     ]
    }
   ],
   "source": [
    "#if-else=digunakan jika kita hanya mempunyai dua kondisi yang ingin dilakukan. Kondisi jika True dan jika False.\n",
    "#contoh\n",
    "nilai=6\n",
    "if nilai>=8:\n",
    "    print('lulus')\n",
    "else:\n",
    "    print('tidak lulus')"
   ]
  },
  {
   "cell_type": "code",
   "execution_count": 7,
   "metadata": {},
   "outputs": [
    {
     "name": "stdout",
     "output_type": "stream",
     "text": [
      "dewasa\n"
     ]
    }
   ],
   "source": [
    "#if-elif-else=digunakan jika kita hanya memiliki banyak syarat yang ingin diuji secara berurutan\n",
    "#contoh\n",
    "usia=24\n",
    "if usia <14:\n",
    "    print('anak-anak')\n",
    "elif usia <20:\n",
    "    print('remaja')\n",
    "else:\n",
    "    print('dewasa')"
   ]
  },
  {
   "cell_type": "code",
   "execution_count": 9,
   "metadata": {},
   "outputs": [
    {
     "name": "stdout",
     "output_type": "stream",
     "text": [
      "Mercury Venus Earth Mars Jupiter Saturn Uranus Neptune "
     ]
    }
   ],
   "source": [
    "#looping=cara untuk berulang kali mengeksekusi beberapa kode\n",
    "#contoh\n",
    "planets=['Mercury','Venus','Earth','Mars','Jupiter','Saturn','Uranus','Neptune']\n",
    "for planet in planets:\n",
    "    print(planet, end=' ')"
   ]
  },
  {
   "cell_type": "code",
   "execution_count": 10,
   "metadata": {},
   "outputs": [
    {
     "name": "stdout",
     "output_type": "stream",
     "text": [
      "Doing important work. i= 0\n",
      "Doing important work. i= 1\n",
      "Doing important work. i= 2\n",
      "Doing important work. i= 3\n",
      "Doing important work. i= 4\n"
     ]
    }
   ],
   "source": [
    "#range() adalah suatu fungsi yang menghasilkan suatu baris nilai.\n",
    "#contoh\n",
    "for i in range(5):\n",
    "    print(\"Doing important work. i=\", i)"
   ]
  },
  {
   "cell_type": "code",
   "execution_count": 11,
   "metadata": {},
   "outputs": [
    {
     "name": "stdout",
     "output_type": "stream",
     "text": [
      "room0: 11.25\n",
      "room1: 18.0\n",
      "room2: 20.0\n",
      "room3: 10.75\n",
      "room4: 9.5\n"
     ]
    }
   ],
   "source": [
    "#Enumerate() memungkinkan kita untuk melakukan loop terhadap suatu object semacam list disertai dengan pengambilan index dari setiap elemennya.\n",
    "#contoh\n",
    "areas=[11.25,18.0,20.0,10.75,9.50]\n",
    "for index,area in enumerate(areas):\n",
    "    print(\"room\"+str(index)+\": \"+str(area))"
   ]
  },
  {
   "cell_type": "code",
   "execution_count": 12,
   "metadata": {},
   "outputs": [
    {
     "name": "stdout",
     "output_type": "stream",
     "text": [
      "0 1 2 3 4 5 6 7 8 9 "
     ]
    }
   ],
   "source": [
    " #while loop, yang terus menerus melakukan looping sampai memenuhi suatu kondisi yang membuat dia harus berhenti\n",
    "#contoh\n",
    "i=0\n",
    "while i<10:\n",
    "    print(i, end=' ')\n",
    "    i +=1"
   ]
  },
  {
   "cell_type": "code",
   "execution_count": 14,
   "metadata": {},
   "outputs": [],
   "source": [
    "# Di dalam looping terdapat beberapa statement yang dapat digunakan ketika memenuhi suatu kondisi\n",
    "#seperti break, continue dan pass statement."
   ]
  },
  {
   "cell_type": "code",
   "execution_count": 15,
   "metadata": {},
   "outputs": [
    {
     "name": "stdout",
     "output_type": "stream",
     "text": [
      "input string: hai\n",
      "length of is 3\n",
      "input string: my name is abdurrahman siddiq\n",
      "length of is 29\n",
      "input string: quit\n"
     ]
    }
   ],
   "source": [
    "#Break digunakan untuk mengakhiri suatu looping jika telah memenuhi kondisi tertentu\n",
    "#contoh\n",
    "while True:\n",
    "    a=input('input string: ')\n",
    "    if a=='quit':\n",
    "        break\n",
    "    print('length of is {}'.format(len(a)))"
   ]
  },
  {
   "cell_type": "code",
   "execution_count": 18,
   "metadata": {},
   "outputs": [
    {
     "name": "stdout",
     "output_type": "stream",
     "text": [
      "my fruit is apple\n",
      "my fruit is banana\n",
      "my fruit is grape\n",
      "my fruit is pineapple\n"
     ]
    }
   ],
   "source": [
    "#continue digunakan untuk menskip atau mengakhiri iterasi yang sedang berjalan dan melanjutkan iterasi selanjutnya\n",
    "#contoh\n",
    "fruits=['apple','banana','orange','grape','pineapple']\n",
    "for fruit in fruits:\n",
    "    if fruit=='orange':\n",
    "        continue\n",
    "    print('my fruit is {}'.format(fruit))"
   ]
  },
  {
   "cell_type": "code",
   "execution_count": 19,
   "metadata": {},
   "outputs": [],
   "source": [
    "#pass merupakan null statement. Pass digunakan ketika kita membuat suatu stament tetapi tidak ingin menambahkan suatu kode.\n",
    "#contoh\n",
    "if True:\n",
    "    pass"
   ]
  },
  {
   "cell_type": "code",
   "execution_count": 21,
   "metadata": {},
   "outputs": [
    {
     "name": "stdout",
     "output_type": "stream",
     "text": [
      "4\n",
      "0\n",
      "raising error in: division by zero\n",
      "Finish\n"
     ]
    }
   ],
   "source": [
    "#Exception handling merupakan statement yang mengatur error dalam sebuah kode\n",
    "#Try : suatu statement yang mengetes kode error\n",
    "#Except : suatu statement yang menghandle apabila ada error\n",
    "#Finally : suatu statement yang mengeksekusi suatu kode\n",
    "a=int(input())\n",
    "b=int(input())\n",
    "\n",
    "try:\n",
    "    c=a/b\n",
    "except Exception as e:\n",
    "    print ('raising error in:', e)\n",
    "finally:\n",
    "    print('Finish')"
   ]
  },
  {
   "cell_type": "code",
   "execution_count": null,
   "metadata": {},
   "outputs": [],
   "source": []
  },
  {
   "cell_type": "code",
   "execution_count": null,
   "metadata": {},
   "outputs": [],
   "source": []
  }
 ],
 "metadata": {
  "kernelspec": {
   "display_name": "Python 3",
   "language": "python",
   "name": "python3"
  },
  "language_info": {
   "codemirror_mode": {
    "name": "ipython",
    "version": 3
   },
   "file_extension": ".py",
   "mimetype": "text/x-python",
   "name": "python",
   "nbconvert_exporter": "python",
   "pygments_lexer": "ipython3",
   "version": "3.8.5"
  }
 },
 "nbformat": 4,
 "nbformat_minor": 4
}
