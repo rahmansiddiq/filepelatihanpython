{
 "cells": [
  {
   "cell_type": "code",
   "execution_count": 2,
   "metadata": {},
   "outputs": [],
   "source": [
    "import numpy as np"
   ]
  },
  {
   "cell_type": "code",
   "execution_count": 3,
   "metadata": {},
   "outputs": [
    {
     "name": "stdout",
     "output_type": "stream",
     "text": [
      "[[1 2 3 4 5]\n",
      " [6 7 8 9 0]]\n"
     ]
    }
   ],
   "source": [
    "my_nump=np.array([[1,2,3,4,5],[6,7,8,9,0]])\n",
    "print(my_nump)"
   ]
  },
  {
   "cell_type": "code",
   "execution_count": 4,
   "metadata": {},
   "outputs": [
    {
     "data": {
      "text/plain": [
       "2"
      ]
     },
     "execution_count": 4,
     "metadata": {},
     "output_type": "execute_result"
    }
   ],
   "source": [
    "#dimension\n",
    "my_nump.ndim"
   ]
  },
  {
   "cell_type": "code",
   "execution_count": 5,
   "metadata": {},
   "outputs": [
    {
     "data": {
      "text/plain": [
       "(2, 5)"
      ]
     },
     "execution_count": 5,
     "metadata": {},
     "output_type": "execute_result"
    }
   ],
   "source": [
    "#shape\n",
    "my_nump.shape"
   ]
  },
  {
   "cell_type": "code",
   "execution_count": 6,
   "metadata": {},
   "outputs": [
    {
     "data": {
      "text/plain": [
       "dtype('int32')"
      ]
     },
     "execution_count": 6,
     "metadata": {},
     "output_type": "execute_result"
    }
   ],
   "source": [
    "#type\n",
    "my_nump.dtype"
   ]
  },
  {
   "cell_type": "code",
   "execution_count": 7,
   "metadata": {},
   "outputs": [
    {
     "data": {
      "text/plain": [
       "4"
      ]
     },
     "execution_count": 7,
     "metadata": {},
     "output_type": "execute_result"
    }
   ],
   "source": [
    "#itemsize\n",
    "my_nump.itemsize"
   ]
  },
  {
   "cell_type": "code",
   "execution_count": 8,
   "metadata": {},
   "outputs": [
    {
     "data": {
      "text/plain": [
       "40"
      ]
     },
     "execution_count": 8,
     "metadata": {},
     "output_type": "execute_result"
    }
   ],
   "source": [
    "#nbytes\n",
    "my_nump.nbytes"
   ]
  },
  {
   "cell_type": "code",
   "execution_count": 10,
   "metadata": {},
   "outputs": [
    {
     "data": {
      "text/plain": [
       "array([8, 9, 0])"
      ]
     },
     "execution_count": 10,
     "metadata": {},
     "output_type": "execute_result"
    }
   ],
   "source": [
    "#indexing array\n",
    "my_nump[1][2:]"
   ]
  },
  {
   "cell_type": "code",
   "execution_count": 11,
   "metadata": {},
   "outputs": [
    {
     "name": "stdout",
     "output_type": "stream",
     "text": [
      "[0 1 2 3 4 5 6 7 8 9]\n"
     ]
    }
   ],
   "source": [
    "#slicing array\n",
    "#[start:stop:step]\n",
    "nmp=np.array(range(10))\n",
    "print(nmp)"
   ]
  },
  {
   "cell_type": "code",
   "execution_count": 12,
   "metadata": {},
   "outputs": [
    {
     "data": {
      "text/plain": [
       "array([0, 2, 4])"
      ]
     },
     "execution_count": 12,
     "metadata": {},
     "output_type": "execute_result"
    }
   ],
   "source": [
    "nmp[0:6:2]"
   ]
  },
  {
   "cell_type": "code",
   "execution_count": 13,
   "metadata": {},
   "outputs": [
    {
     "data": {
      "text/plain": [
       "array([[8, 9, 0]])"
      ]
     },
     "execution_count": 13,
     "metadata": {},
     "output_type": "execute_result"
    }
   ],
   "source": [
    "#multidimension\n",
    "my_nump[1:,2:]"
   ]
  },
  {
   "cell_type": "code",
   "execution_count": 14,
   "metadata": {},
   "outputs": [
    {
     "data": {
      "text/plain": [
       "array([[1, 2],\n",
       "       [3, 4],\n",
       "       [5, 6],\n",
       "       [7, 8],\n",
       "       [9, 0]])"
      ]
     },
     "execution_count": 14,
     "metadata": {},
     "output_type": "execute_result"
    }
   ],
   "source": [
    "#reshaping array (dimensi harus n x n)\n",
    "my_nump.reshape(5,2)\n"
   ]
  },
  {
   "cell_type": "code",
   "execution_count": 16,
   "metadata": {},
   "outputs": [
    {
     "data": {
      "text/plain": [
       "array([[1, 2, 3, 4, 5],\n",
       "       [6, 7, 8, 9, 0],\n",
       "       [1, 2, 3, 1, 4],\n",
       "       [2, 3, 5, 3, 5]])"
      ]
     },
     "execution_count": 16,
     "metadata": {},
     "output_type": "execute_result"
    }
   ],
   "source": [
    "#joining array\n",
    "my_nump=np.array([[1,2,3,4,5],[6,7,8,9,0]])\n",
    "nmpy=np.array([[1,2,3,1,4],[2,3,5,3,5]])\n",
    "np.concatenate([my_nump,nmpy])"
   ]
  },
  {
   "cell_type": "code",
   "execution_count": 18,
   "metadata": {},
   "outputs": [
    {
     "name": "stdout",
     "output_type": "stream",
     "text": [
      "0    6\n",
      "1    3\n",
      "2    4\n",
      "3    6\n",
      "dtype: int64\n"
     ]
    }
   ],
   "source": [
    "#objek pandas:Series vs dataframe\n",
    "#series=onjek 1 dimensi, memiliki persamaan dengan list\n",
    "import pandas as pd\n",
    "x=pd.Series([6,3,4,6])\n",
    "print(x)"
   ]
  },
  {
   "cell_type": "code",
   "execution_count": 19,
   "metadata": {},
   "outputs": [
    {
     "name": "stdout",
     "output_type": "stream",
     "text": [
      "a    6\n",
      "b    3\n",
      "c    4\n",
      "d    6\n",
      "dtype: int64\n"
     ]
    }
   ],
   "source": [
    "#Series memiliki satu sumbu/index saja, dari contoh di atas sumbu/index tersebut berada satu baris, yaitu 0, 1, 2, 3. kita bisa mengubah sumbu/index tersebut dengan sebagai berikut\n",
    "#cara pertama\n",
    "x.index=['a','b','c','d']\n",
    "print(x)"
   ]
  },
  {
   "cell_type": "code",
   "execution_count": 21,
   "metadata": {},
   "outputs": [
    {
     "name": "stdout",
     "output_type": "stream",
     "text": [
      "a    6\n",
      "b    3\n",
      "c    4\n",
      "d    6\n",
      "dtype: int64\n"
     ]
    }
   ],
   "source": [
    "#cara kedua\n",
    "x=pd.Series([6,3,4,6],index=['a','b','c','d'])\n",
    "print(x)"
   ]
  },
  {
   "cell_type": "code",
   "execution_count": 22,
   "metadata": {},
   "outputs": [
    {
     "name": "stdout",
     "output_type": "stream",
     "text": [
      "<class 'pandas.core.series.Series'>\n"
     ]
    }
   ],
   "source": [
    "print(type(x))"
   ]
  },
  {
   "cell_type": "code",
   "execution_count": 23,
   "metadata": {},
   "outputs": [
    {
     "name": "stdout",
     "output_type": "stream",
     "text": [
      "   tipe_int tipe_string\n",
      "0        50           a\n",
      "1        21           b\n"
     ]
    }
   ],
   "source": [
    "#dataframe=objek 2 dimensir,memiliki 2 index, yaitu index baris dan index columns.\n",
    "import pandas as pd\n",
    "df=pd.DataFrame({'tipe_int':[50,21],'tipe_string':['a','b']})\n",
    "print(df)"
   ]
  },
  {
   "cell_type": "code",
   "execution_count": 25,
   "metadata": {},
   "outputs": [],
   "source": [
    "#import file\n",
    "#dari csv\n",
    "df_from_csv=pd.read_csv('rakamin_class.csv')\n",
    "#dari excel\n",
    "#df_from_excel=pd.read_excel('asasasas.xlsx')"
   ]
  },
  {
   "cell_type": "code",
   "execution_count": 26,
   "metadata": {},
   "outputs": [],
   "source": [
    "#pemeriksaan sederhana karaketeristik data\n",
    "#head()=secara default utk melihat 5 data pertama \n",
    "#tail()=secara default utk melihat 5 data terakhir \n",
    "df=pd.read_csv('rakamin_class.csv')"
   ]
  },
  {
   "cell_type": "code",
   "execution_count": 28,
   "metadata": {},
   "outputs": [
    {
     "data": {
      "text/html": [
       "<div>\n",
       "<style scoped>\n",
       "    .dataframe tbody tr th:only-of-type {\n",
       "        vertical-align: middle;\n",
       "    }\n",
       "\n",
       "    .dataframe tbody tr th {\n",
       "        vertical-align: top;\n",
       "    }\n",
       "\n",
       "    .dataframe thead th {\n",
       "        text-align: right;\n",
       "    }\n",
       "</style>\n",
       "<table border=\"1\" class=\"dataframe\">\n",
       "  <thead>\n",
       "    <tr style=\"text-align: right;\">\n",
       "      <th></th>\n",
       "      <th>registration_id</th>\n",
       "      <th>name</th>\n",
       "      <th>email</th>\n",
       "      <th>phone</th>\n",
       "      <th>age</th>\n",
       "      <th>city</th>\n",
       "      <th>province</th>\n",
       "      <th>active</th>\n",
       "      <th>class</th>\n",
       "      <th>score</th>\n",
       "    </tr>\n",
       "  </thead>\n",
       "  <tbody>\n",
       "    <tr>\n",
       "      <th>0</th>\n",
       "      <td>RK20202344</td>\n",
       "      <td>Nina</td>\n",
       "      <td>nina@gmail.com</td>\n",
       "      <td>628198157</td>\n",
       "      <td>57</td>\n",
       "      <td>Tanjungpinang</td>\n",
       "      <td>Kepulauan Riau</td>\n",
       "      <td>1</td>\n",
       "      <td>6</td>\n",
       "      <td>80</td>\n",
       "    </tr>\n",
       "    <tr>\n",
       "      <th>1</th>\n",
       "      <td>RK20202345</td>\n",
       "      <td>Dyah</td>\n",
       "      <td>dyah@gmail.com</td>\n",
       "      <td>628306496</td>\n",
       "      <td>24</td>\n",
       "      <td>Bogor</td>\n",
       "      <td>Jawa Barat</td>\n",
       "      <td>0</td>\n",
       "      <td>2</td>\n",
       "      <td>66</td>\n",
       "    </tr>\n",
       "    <tr>\n",
       "      <th>2</th>\n",
       "      <td>RK20202346</td>\n",
       "      <td>Prima</td>\n",
       "      <td>prima@ymail.com</td>\n",
       "      <td>628755450</td>\n",
       "      <td>16</td>\n",
       "      <td>Kota Administrasi Jakarta Pusat</td>\n",
       "      <td>Jakarta</td>\n",
       "      <td>1</td>\n",
       "      <td>1</td>\n",
       "      <td>55</td>\n",
       "    </tr>\n",
       "    <tr>\n",
       "      <th>3</th>\n",
       "      <td>RK20202347</td>\n",
       "      <td>Firman</td>\n",
       "      <td>firman@google.com</td>\n",
       "      <td>628638112</td>\n",
       "      <td>59</td>\n",
       "      <td>Metro</td>\n",
       "      <td>Lampung</td>\n",
       "      <td>1</td>\n",
       "      <td>6</td>\n",
       "      <td>93</td>\n",
       "    </tr>\n",
       "    <tr>\n",
       "      <th>4</th>\n",
       "      <td>RK20202348</td>\n",
       "      <td>Eva</td>\n",
       "      <td>eva@rakamin.com</td>\n",
       "      <td>628702735</td>\n",
       "      <td>42</td>\n",
       "      <td>Malang</td>\n",
       "      <td>Jawa Timur</td>\n",
       "      <td>0</td>\n",
       "      <td>5</td>\n",
       "      <td>80</td>\n",
       "    </tr>\n",
       "    <tr>\n",
       "      <th>5</th>\n",
       "      <td>RK20202349</td>\n",
       "      <td>Bagus</td>\n",
       "      <td>bagus@hotmail.com</td>\n",
       "      <td>628816223</td>\n",
       "      <td>16</td>\n",
       "      <td>Kota Administrasi Jakarta Pusat</td>\n",
       "      <td>Jakarta</td>\n",
       "      <td>1</td>\n",
       "      <td>1</td>\n",
       "      <td>84</td>\n",
       "    </tr>\n",
       "    <tr>\n",
       "      <th>6</th>\n",
       "      <td>RK20202350</td>\n",
       "      <td>Citra</td>\n",
       "      <td>citra@hotmail.com</td>\n",
       "      <td>628965407</td>\n",
       "      <td>36</td>\n",
       "      <td>Surakarta</td>\n",
       "      <td>Jawa Tengah</td>\n",
       "      <td>1</td>\n",
       "      <td>4</td>\n",
       "      <td>69</td>\n",
       "    </tr>\n",
       "  </tbody>\n",
       "</table>\n",
       "</div>"
      ],
      "text/plain": [
       "  registration_id    name              email      phone  age  \\\n",
       "0      RK20202344    Nina     nina@gmail.com  628198157   57   \n",
       "1      RK20202345    Dyah     dyah@gmail.com  628306496   24   \n",
       "2      RK20202346   Prima    prima@ymail.com  628755450   16   \n",
       "3      RK20202347  Firman  firman@google.com  628638112   59   \n",
       "4      RK20202348     Eva    eva@rakamin.com  628702735   42   \n",
       "5      RK20202349   Bagus  bagus@hotmail.com  628816223   16   \n",
       "6      RK20202350   Citra  citra@hotmail.com  628965407   36   \n",
       "\n",
       "                              city        province  active  class  score  \n",
       "0                    Tanjungpinang  Kepulauan Riau       1      6     80  \n",
       "1                            Bogor      Jawa Barat       0      2     66  \n",
       "2  Kota Administrasi Jakarta Pusat         Jakarta       1      1     55  \n",
       "3                            Metro         Lampung       1      6     93  \n",
       "4                           Malang      Jawa Timur       0      5     80  \n",
       "5  Kota Administrasi Jakarta Pusat         Jakarta       1      1     84  \n",
       "6                        Surakarta     Jawa Tengah       1      4     69  "
      ]
     },
     "execution_count": 28,
     "metadata": {},
     "output_type": "execute_result"
    }
   ],
   "source": [
    "df.head(7)"
   ]
  },
  {
   "cell_type": "code",
   "execution_count": 29,
   "metadata": {},
   "outputs": [
    {
     "data": {
      "text/html": [
       "<div>\n",
       "<style scoped>\n",
       "    .dataframe tbody tr th:only-of-type {\n",
       "        vertical-align: middle;\n",
       "    }\n",
       "\n",
       "    .dataframe tbody tr th {\n",
       "        vertical-align: top;\n",
       "    }\n",
       "\n",
       "    .dataframe thead th {\n",
       "        text-align: right;\n",
       "    }\n",
       "</style>\n",
       "<table border=\"1\" class=\"dataframe\">\n",
       "  <thead>\n",
       "    <tr style=\"text-align: right;\">\n",
       "      <th></th>\n",
       "      <th>registration_id</th>\n",
       "      <th>name</th>\n",
       "      <th>email</th>\n",
       "      <th>phone</th>\n",
       "      <th>age</th>\n",
       "      <th>city</th>\n",
       "      <th>province</th>\n",
       "      <th>active</th>\n",
       "      <th>class</th>\n",
       "      <th>score</th>\n",
       "    </tr>\n",
       "  </thead>\n",
       "  <tbody>\n",
       "    <tr>\n",
       "      <th>95</th>\n",
       "      <td>RK20202439</td>\n",
       "      <td>Abdul</td>\n",
       "      <td>abdul@gmail.com</td>\n",
       "      <td>628989064</td>\n",
       "      <td>54</td>\n",
       "      <td>Samarinda</td>\n",
       "      <td>Kalimantan Timur</td>\n",
       "      <td>0</td>\n",
       "      <td>6</td>\n",
       "      <td>59</td>\n",
       "    </tr>\n",
       "    <tr>\n",
       "      <th>96</th>\n",
       "      <td>RK20202440</td>\n",
       "      <td>Ria</td>\n",
       "      <td>ria@gmail.com</td>\n",
       "      <td>628535849</td>\n",
       "      <td>56</td>\n",
       "      <td>Batam</td>\n",
       "      <td>Kepulauan Riau</td>\n",
       "      <td>0</td>\n",
       "      <td>6</td>\n",
       "      <td>58</td>\n",
       "    </tr>\n",
       "    <tr>\n",
       "      <th>97</th>\n",
       "      <td>RK20202441</td>\n",
       "      <td>Putra</td>\n",
       "      <td>putra@gmail.com</td>\n",
       "      <td>628205046</td>\n",
       "      <td>51</td>\n",
       "      <td>Palangkaraya</td>\n",
       "      <td>Kalimantan Tengah</td>\n",
       "      <td>1</td>\n",
       "      <td>6</td>\n",
       "      <td>71</td>\n",
       "    </tr>\n",
       "    <tr>\n",
       "      <th>98</th>\n",
       "      <td>RK20202442</td>\n",
       "      <td>Kokom</td>\n",
       "      <td>kokom@facebook.com</td>\n",
       "      <td>628718477</td>\n",
       "      <td>23</td>\n",
       "      <td>Bekasi</td>\n",
       "      <td>Jawa Barat</td>\n",
       "      <td>0</td>\n",
       "      <td>2</td>\n",
       "      <td>73</td>\n",
       "    </tr>\n",
       "    <tr>\n",
       "      <th>99</th>\n",
       "      <td>RK20202443</td>\n",
       "      <td>Ilham</td>\n",
       "      <td>ilham@gmail.com</td>\n",
       "      <td>628680755</td>\n",
       "      <td>29</td>\n",
       "      <td>Tasikmalaya</td>\n",
       "      <td>Jawa Barat</td>\n",
       "      <td>1</td>\n",
       "      <td>2</td>\n",
       "      <td>52</td>\n",
       "    </tr>\n",
       "  </tbody>\n",
       "</table>\n",
       "</div>"
      ],
      "text/plain": [
       "   registration_id   name               email      phone  age          city  \\\n",
       "95      RK20202439  Abdul     abdul@gmail.com  628989064   54     Samarinda   \n",
       "96      RK20202440    Ria       ria@gmail.com  628535849   56         Batam   \n",
       "97      RK20202441  Putra     putra@gmail.com  628205046   51  Palangkaraya   \n",
       "98      RK20202442  Kokom  kokom@facebook.com  628718477   23        Bekasi   \n",
       "99      RK20202443  Ilham     ilham@gmail.com  628680755   29   Tasikmalaya   \n",
       "\n",
       "             province  active  class  score  \n",
       "95   Kalimantan Timur       0      6     59  \n",
       "96     Kepulauan Riau       0      6     58  \n",
       "97  Kalimantan Tengah       1      6     71  \n",
       "98         Jawa Barat       0      2     73  \n",
       "99         Jawa Barat       1      2     52  "
      ]
     },
     "execution_count": 29,
     "metadata": {},
     "output_type": "execute_result"
    }
   ],
   "source": [
    "df.tail()"
   ]
  },
  {
   "cell_type": "code",
   "execution_count": 31,
   "metadata": {},
   "outputs": [
    {
     "name": "stdout",
     "output_type": "stream",
     "text": [
      "<class 'pandas.core.frame.DataFrame'>\n",
      "RangeIndex: 2 entries, 0 to 1\n",
      "Data columns (total 2 columns):\n",
      " #   Column       Non-Null Count  Dtype \n",
      "---  ------       --------------  ----- \n",
      " 0   tipe_int     2 non-null      int64 \n",
      " 1   tipe_string  2 non-null      object\n",
      "dtypes: int64(1), object(1)\n",
      "memory usage: 160.0+ bytes\n"
     ]
    }
   ],
   "source": [
    "#info()=suatu method utk melakukan summary terhadap data\n",
    "#yg memberikan informasi ttg tipe dari index data, tipe dari kolom data\n",
    "#non-null values pada setiap kolom, dan jumlah memory\n",
    "df=pd.DataFrame({'tipe_int':[50,21],'tipe_string':['a','b']})\n",
    "df.info()\n"
   ]
  },
  {
   "cell_type": "code",
   "execution_count": 32,
   "metadata": {},
   "outputs": [],
   "source": [
    "#describe()=utk menghasilkan kesimpulan deskriptif statistik dari data\n",
    "df=pd.read_csv('rakamin_class.csv')"
   ]
  },
  {
   "cell_type": "code",
   "execution_count": 33,
   "metadata": {},
   "outputs": [
    {
     "data": {
      "text/html": [
       "<div>\n",
       "<style scoped>\n",
       "    .dataframe tbody tr th:only-of-type {\n",
       "        vertical-align: middle;\n",
       "    }\n",
       "\n",
       "    .dataframe tbody tr th {\n",
       "        vertical-align: top;\n",
       "    }\n",
       "\n",
       "    .dataframe thead th {\n",
       "        text-align: right;\n",
       "    }\n",
       "</style>\n",
       "<table border=\"1\" class=\"dataframe\">\n",
       "  <thead>\n",
       "    <tr style=\"text-align: right;\">\n",
       "      <th></th>\n",
       "      <th>phone</th>\n",
       "      <th>age</th>\n",
       "      <th>active</th>\n",
       "      <th>class</th>\n",
       "      <th>score</th>\n",
       "    </tr>\n",
       "  </thead>\n",
       "  <tbody>\n",
       "    <tr>\n",
       "      <th>count</th>\n",
       "      <td>1.000000e+02</td>\n",
       "      <td>100.000000</td>\n",
       "      <td>100.000000</td>\n",
       "      <td>100.000000</td>\n",
       "      <td>100.000000</td>\n",
       "    </tr>\n",
       "    <tr>\n",
       "      <th>mean</th>\n",
       "      <td>6.285217e+08</td>\n",
       "      <td>37.930000</td>\n",
       "      <td>0.640000</td>\n",
       "      <td>3.950000</td>\n",
       "      <td>74.770000</td>\n",
       "    </tr>\n",
       "    <tr>\n",
       "      <th>std</th>\n",
       "      <td>2.797442e+05</td>\n",
       "      <td>13.471448</td>\n",
       "      <td>0.482418</td>\n",
       "      <td>1.794351</td>\n",
       "      <td>13.561573</td>\n",
       "    </tr>\n",
       "    <tr>\n",
       "      <th>min</th>\n",
       "      <td>6.280073e+08</td>\n",
       "      <td>15.000000</td>\n",
       "      <td>0.000000</td>\n",
       "      <td>1.000000</td>\n",
       "      <td>50.000000</td>\n",
       "    </tr>\n",
       "    <tr>\n",
       "      <th>25%</th>\n",
       "      <td>6.283046e+08</td>\n",
       "      <td>26.750000</td>\n",
       "      <td>0.000000</td>\n",
       "      <td>2.000000</td>\n",
       "      <td>65.000000</td>\n",
       "    </tr>\n",
       "    <tr>\n",
       "      <th>50%</th>\n",
       "      <td>6.285330e+08</td>\n",
       "      <td>38.500000</td>\n",
       "      <td>1.000000</td>\n",
       "      <td>4.000000</td>\n",
       "      <td>74.000000</td>\n",
       "    </tr>\n",
       "    <tr>\n",
       "      <th>75%</th>\n",
       "      <td>6.287277e+08</td>\n",
       "      <td>50.250000</td>\n",
       "      <td>1.000000</td>\n",
       "      <td>6.000000</td>\n",
       "      <td>85.250000</td>\n",
       "    </tr>\n",
       "    <tr>\n",
       "      <th>max</th>\n",
       "      <td>6.289891e+08</td>\n",
       "      <td>59.000000</td>\n",
       "      <td>1.000000</td>\n",
       "      <td>6.000000</td>\n",
       "      <td>100.000000</td>\n",
       "    </tr>\n",
       "  </tbody>\n",
       "</table>\n",
       "</div>"
      ],
      "text/plain": [
       "              phone         age      active       class       score\n",
       "count  1.000000e+02  100.000000  100.000000  100.000000  100.000000\n",
       "mean   6.285217e+08   37.930000    0.640000    3.950000   74.770000\n",
       "std    2.797442e+05   13.471448    0.482418    1.794351   13.561573\n",
       "min    6.280073e+08   15.000000    0.000000    1.000000   50.000000\n",
       "25%    6.283046e+08   26.750000    0.000000    2.000000   65.000000\n",
       "50%    6.285330e+08   38.500000    1.000000    4.000000   74.000000\n",
       "75%    6.287277e+08   50.250000    1.000000    6.000000   85.250000\n",
       "max    6.289891e+08   59.000000    1.000000    6.000000  100.000000"
      ]
     },
     "execution_count": 33,
     "metadata": {},
     "output_type": "execute_result"
    }
   ],
   "source": [
    "df.describe()"
   ]
  },
  {
   "cell_type": "code",
   "execution_count": null,
   "metadata": {},
   "outputs": [],
   "source": []
  }
 ],
 "metadata": {
  "kernelspec": {
   "display_name": "Python 3",
   "language": "python",
   "name": "python3"
  },
  "language_info": {
   "codemirror_mode": {
    "name": "ipython",
    "version": 3
   },
   "file_extension": ".py",
   "mimetype": "text/x-python",
   "name": "python",
   "nbconvert_exporter": "python",
   "pygments_lexer": "ipython3",
   "version": "3.8.5"
  }
 },
 "nbformat": 4,
 "nbformat_minor": 4
}
